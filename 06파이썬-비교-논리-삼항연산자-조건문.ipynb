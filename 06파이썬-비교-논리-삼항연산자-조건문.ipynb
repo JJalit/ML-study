{
 "cells": [
  {
   "cell_type": "markdown",
   "id": "47377e6b",
   "metadata": {},
   "source": [
    "## 비교연산자\n",
    "비교 연산자는 주로 대소비교를 할 때 사용합니다."
   ]
  },
  {
   "cell_type": "markdown",
   "id": "87db9219",
   "metadata": {},
   "source": [
    "### 대소비교\n",
    "- `>`: 크다\n",
    "- `>=`: 크거나 같다\n",
    "- `<`: 작다\n",
    "- `<=`: 작거나 같다"
   ]
  },
  {
   "cell_type": "code",
   "execution_count": 1,
   "id": "004bfa8e",
   "metadata": {},
   "outputs": [
    {
     "data": {
      "text/plain": [
       "False"
      ]
     },
     "execution_count": 1,
     "metadata": {},
     "output_type": "execute_result"
    }
   ],
   "source": [
    "1 > 2"
   ]
  },
  {
   "cell_type": "code",
   "execution_count": 2,
   "id": "f0ca12e5",
   "metadata": {},
   "outputs": [
    {
     "data": {
      "text/plain": [
       "True"
      ]
     },
     "execution_count": 2,
     "metadata": {},
     "output_type": "execute_result"
    }
   ],
   "source": [
    "10 >= 10"
   ]
  },
  {
   "cell_type": "code",
   "execution_count": 3,
   "id": "4c1f3c8a",
   "metadata": {},
   "outputs": [
    {
     "data": {
      "text/plain": [
       "True"
      ]
     },
     "execution_count": 3,
     "metadata": {},
     "output_type": "execute_result"
    }
   ],
   "source": [
    "9 < 10"
   ]
  },
  {
   "cell_type": "code",
   "execution_count": 4,
   "id": "fc30e041",
   "metadata": {},
   "outputs": [
    {
     "data": {
      "text/plain": [
       "False"
      ]
     },
     "execution_count": 4,
     "metadata": {},
     "output_type": "execute_result"
    }
   ],
   "source": [
    "8 <= 7"
   ]
  },
  {
   "cell_type": "markdown",
   "id": "a4110be1",
   "metadata": {},
   "source": [
    "### 같다와 같지 않다"
   ]
  },
  {
   "cell_type": "markdown",
   "id": "71fad4cb",
   "metadata": {},
   "source": [
    "### == : 같음을 비교\n",
    "- `=`는 대입 연산자 입니다.\n",
    "- 코딩에서는 `=`이 대입 연산자로 사용되기 때문에 `==`을 사용하고 있습니다."
   ]
  },
  {
   "cell_type": "code",
   "execution_count": 5,
   "id": "8bbcadb6",
   "metadata": {},
   "outputs": [
    {
     "ename": "SyntaxError",
     "evalue": "cannot assign to literal (130740625.py, line 1)",
     "output_type": "error",
     "traceback": [
      "\u001b[0;36m  Input \u001b[0;32mIn [5]\u001b[0;36m\u001b[0m\n\u001b[0;31m    2 = 2\u001b[0m\n\u001b[0m    ^\u001b[0m\n\u001b[0;31mSyntaxError\u001b[0m\u001b[0;31m:\u001b[0m cannot assign to literal\n"
     ]
    }
   ],
   "source": [
    "2 = 2"
   ]
  },
  {
   "cell_type": "code",
   "execution_count": 6,
   "id": "3a3049ba",
   "metadata": {},
   "outputs": [
    {
     "data": {
      "text/plain": [
       "True"
      ]
     },
     "execution_count": 6,
     "metadata": {},
     "output_type": "execute_result"
    }
   ],
   "source": [
    "2 == 2"
   ]
  },
  {
   "cell_type": "code",
   "execution_count": 8,
   "id": "e9612836",
   "metadata": {},
   "outputs": [
    {
     "data": {
      "text/plain": [
       "False"
      ]
     },
     "execution_count": 8,
     "metadata": {},
     "output_type": "execute_result"
    }
   ],
   "source": [
    "2 == 3"
   ]
  },
  {
   "cell_type": "markdown",
   "id": "d83a0ec5",
   "metadata": {},
   "source": [
    "### != 같지 않음을 비교"
   ]
  },
  {
   "cell_type": "code",
   "execution_count": 9,
   "id": "7c21359e",
   "metadata": {},
   "outputs": [
    {
     "data": {
      "text/plain": [
       "False"
      ]
     },
     "execution_count": 9,
     "metadata": {},
     "output_type": "execute_result"
    }
   ],
   "source": [
    "2 != 2"
   ]
  },
  {
   "cell_type": "code",
   "execution_count": 10,
   "id": "4b82e9fa",
   "metadata": {},
   "outputs": [
    {
     "data": {
      "text/plain": [
       "True"
      ]
     },
     "execution_count": 10,
     "metadata": {},
     "output_type": "execute_result"
    }
   ],
   "source": [
    "1 != 2"
   ]
  },
  {
   "cell_type": "code",
   "execution_count": 11,
   "id": "96ae66dd",
   "metadata": {},
   "outputs": [
    {
     "data": {
      "text/plain": [
       "True"
      ]
     },
     "execution_count": 11,
     "metadata": {},
     "output_type": "execute_result"
    }
   ],
   "source": [
    "'나' != '너'"
   ]
  },
  {
   "cell_type": "code",
   "execution_count": 12,
   "id": "53f4213d",
   "metadata": {},
   "outputs": [
    {
     "data": {
      "text/plain": [
       "False"
      ]
     },
     "execution_count": 12,
     "metadata": {},
     "output_type": "execute_result"
    }
   ],
   "source": [
    "'나' != '나'"
   ]
  },
  {
   "cell_type": "markdown",
   "id": "d572069f",
   "metadata": {},
   "source": [
    "### 조건문\n",
    "조건문이란 무엇일까요?\n",
    "\n",
    "주어진 조건이 **참**인 경우 그 다음 내가 정한 규칙(로직)을 실행하는 개념입니다."
   ]
  },
  {
   "cell_type": "markdown",
   "id": "16c6e5c8",
   "metadata": {},
   "source": [
    "### if\n",
    "- if는 어떤 조건이 성립한다면~ 이라는 뜻입니다.\n",
    "- if 구문 끝에는 반드시 콜론(:)을 잊지 말아 주세요."
   ]
  },
  {
   "cell_type": "code",
   "execution_count": 13,
   "id": "98d771c0",
   "metadata": {},
   "outputs": [
    {
     "name": "stdout",
     "output_type": "stream",
     "text": [
      "참\n"
     ]
    }
   ],
   "source": [
    "if 5 > 3:\n",
    "    print('참')"
   ]
  },
  {
   "cell_type": "code",
   "execution_count": 14,
   "id": "5aa6e8e0",
   "metadata": {},
   "outputs": [
    {
     "name": "stdout",
     "output_type": "stream",
     "text": [
      "참\n",
      "참\n",
      "참\n",
      "참\n",
      "끝\n"
     ]
    }
   ],
   "source": [
    "if 5 > 3:\n",
    "    print('참')\n",
    "    print('참')\n",
    "    print('참')\n",
    "    print('참')\n",
    "\n",
    "print('끝')"
   ]
  },
  {
   "cell_type": "code",
   "execution_count": 15,
   "id": "d10d64b5",
   "metadata": {},
   "outputs": [
    {
     "name": "stdout",
     "output_type": "stream",
     "text": [
      "참\n"
     ]
    }
   ],
   "source": [
    "if 5 > 3:\n",
    "    print('참')"
   ]
  },
  {
   "cell_type": "markdown",
   "id": "c2f39bb8",
   "metadata": {},
   "source": [
    "### else\n",
    "else는 if 조건 후에 따라오며, if가 아닌 경우에 실행 됩니다."
   ]
  },
  {
   "cell_type": "code",
   "execution_count": 16,
   "id": "32adebd3",
   "metadata": {},
   "outputs": [
    {
     "name": "stdout",
     "output_type": "stream",
     "text": [
      "if 구문 실행\n"
     ]
    }
   ],
   "source": [
    "if 5 > 3:\n",
    "    print('if 구문 실행')\n",
    "else:\n",
    "    print('else 구문 실행')"
   ]
  },
  {
   "cell_type": "markdown",
   "id": "87a2183c",
   "metadata": {},
   "source": [
    "하지만, else만 단독으로 실행한다면?"
   ]
  },
  {
   "cell_type": "code",
   "execution_count": 17,
   "id": "2cdd68e1",
   "metadata": {},
   "outputs": [
    {
     "ename": "SyntaxError",
     "evalue": "invalid syntax (1695759770.py, line 1)",
     "output_type": "error",
     "traceback": [
      "\u001b[0;36m  Input \u001b[0;32mIn [17]\u001b[0;36m\u001b[0m\n\u001b[0;31m    else:\u001b[0m\n\u001b[0m    ^\u001b[0m\n\u001b[0;31mSyntaxError\u001b[0m\u001b[0;31m:\u001b[0m invalid syntax\n"
     ]
    }
   ],
   "source": [
    "else:\n",
    "    print('else 구문 실행')"
   ]
  },
  {
   "cell_type": "markdown",
   "id": "d1df3ebf",
   "metadata": {},
   "source": [
    "### elif\n",
    "elif 구문은 3가지 이상 분기 (조건)의 동작을 수행할 때 사용합니다."
   ]
  },
  {
   "cell_type": "code",
   "execution_count": 18,
   "id": "c9560be0",
   "metadata": {},
   "outputs": [
    {
     "name": "stdout",
     "output_type": "stream",
     "text": [
      "이것도 저것도 아니다\n"
     ]
    }
   ],
   "source": [
    "if 3 > 5:\n",
    "    print('if 구문')\n",
    "elif 3 > 4:\n",
    "    print('elif 구문')\n",
    "else:\n",
    "    print('이것도 저것도 아니다')"
   ]
  },
  {
   "cell_type": "markdown",
   "id": "3a5ab7b8",
   "metadata": {},
   "source": [
    "그럼, **elif 구문이 참인 여러 구문**을 나열 했을 때는 어떻게 될까요?\n",
    "\n",
    "한 번 고민해보고 실행하세요."
   ]
  },
  {
   "cell_type": "code",
   "execution_count": 19,
   "id": "4183d194",
   "metadata": {},
   "outputs": [
    {
     "name": "stdout",
     "output_type": "stream",
     "text": [
      "elif 1 구문\n"
     ]
    }
   ],
   "source": [
    "if 3 > 5:\n",
    "    print('if 구문')\n",
    "elif 3 < 4:\n",
    "    print('elif 1 구문')\n",
    "elif 3 < 5:\n",
    "    print('elif 2 구문')\n",
    "elif 3 < 6:\n",
    "    print('elif 3 구문')\n",
    "else:\n",
    "    print('이것도 저것도 아니다')"
   ]
  },
  {
   "cell_type": "markdown",
   "id": "7e42d0fe",
   "metadata": {},
   "source": [
    "### 1이나 0은 참이나 거짓을 표현하기도 합니다."
   ]
  },
  {
   "cell_type": "code",
   "execution_count": 20,
   "id": "29ef8a8b",
   "metadata": {},
   "outputs": [
    {
     "name": "stdout",
     "output_type": "stream",
     "text": [
      "참\n"
     ]
    }
   ],
   "source": [
    "if 1:\n",
    "    print('참')\n",
    "else:\n",
    "    print('거짓')"
   ]
  },
  {
   "cell_type": "code",
   "execution_count": 21,
   "id": "17963e3b",
   "metadata": {},
   "outputs": [
    {
     "name": "stdout",
     "output_type": "stream",
     "text": [
      "거짓\n"
     ]
    }
   ],
   "source": [
    "if 0:\n",
    "    print('참')\n",
    "else:\n",
    "    print('거짓')"
   ]
  },
  {
   "cell_type": "markdown",
   "id": "4f222a2d",
   "metadata": {},
   "source": [
    "### 삼항연산자\n",
    "(문법) **(참인 값) if 조건 else (거짓인경우 값)**\n",
    "\n",
    "삼항연산자는 파이썬 문법에서 흔히 볼 수 있는 연산자 이며, 조건에 대한 참인 경우의 값 그렇지 않은 경우의 값을 뒤에 지정합니다."
   ]
  },
  {
   "cell_type": "code",
   "execution_count": 22,
   "id": "735188b3",
   "metadata": {},
   "outputs": [
    {
     "data": {
      "text/plain": [
       "'30세 이상입니다.'"
      ]
     },
     "execution_count": 22,
     "metadata": {},
     "output_type": "execute_result"
    }
   ],
   "source": [
    "age = 35\n",
    "\n",
    "\"30세 이상입니다.\" if age >= 30 else \"30세 이하입니다.\""
   ]
  },
  {
   "cell_type": "code",
   "execution_count": 23,
   "id": "541d7cae",
   "metadata": {},
   "outputs": [
    {
     "data": {
      "text/plain": [
       "'30세 이하입니다.'"
      ]
     },
     "execution_count": 23,
     "metadata": {},
     "output_type": "execute_result"
    }
   ],
   "source": [
    "age = 20\n",
    "\n",
    "\"30세 이상입니다.\" if age >= 30 else \"30세 이하입니다.\""
   ]
  },
  {
   "cell_type": "markdown",
   "id": "a488beaf",
   "metadata": {},
   "source": [
    "### 논리 연산자 (and, or, not)\n",
    "**and**나 **or** 조건은 두 가지 이상 조건을 다룰 때 활용합니다."
   ]
  },
  {
   "cell_type": "markdown",
   "id": "2b981722",
   "metadata": {},
   "source": [
    "### and\n",
    "- and 조건은 **모두 만족**할 때 참으로 인식합니다."
   ]
  },
  {
   "cell_type": "code",
   "execution_count": 24,
   "id": "89d1aab7",
   "metadata": {},
   "outputs": [
    {
     "data": {
      "text/plain": [
       "True"
      ]
     },
     "execution_count": 24,
     "metadata": {},
     "output_type": "execute_result"
    }
   ],
   "source": [
    "True and True and True"
   ]
  },
  {
   "cell_type": "code",
   "execution_count": 25,
   "id": "1b732a8c",
   "metadata": {},
   "outputs": [
    {
     "data": {
      "text/plain": [
       "False"
      ]
     },
     "execution_count": 25,
     "metadata": {},
     "output_type": "execute_result"
    }
   ],
   "source": [
    "True and False and True"
   ]
  },
  {
   "cell_type": "code",
   "execution_count": 26,
   "id": "1c40cb26",
   "metadata": {},
   "outputs": [
    {
     "name": "stdout",
     "output_type": "stream",
     "text": [
      "모두 참\n"
     ]
    }
   ],
   "source": [
    "if (0 < 1) and (0 < 2):\n",
    "    print('모두 참')\n",
    "else:\n",
    "    print('거짓')"
   ]
  },
  {
   "cell_type": "code",
   "execution_count": 27,
   "id": "f881ad6a",
   "metadata": {},
   "outputs": [
    {
     "name": "stdout",
     "output_type": "stream",
     "text": [
      "거짓\n"
     ]
    }
   ],
   "source": [
    "if (0 < 1) and (0 > 2):\n",
    "    print('모두 참')\n",
    "else:\n",
    "    print('거짓')"
   ]
  },
  {
   "cell_type": "markdown",
   "id": "22276200",
   "metadata": {},
   "source": [
    "### or\n",
    "- or 조건은 조건 중 **하나라도 만족**할 때 참으로 인식합니다."
   ]
  },
  {
   "cell_type": "code",
   "execution_count": 28,
   "id": "2bcb81a7",
   "metadata": {},
   "outputs": [
    {
     "data": {
      "text/plain": [
       "True"
      ]
     },
     "execution_count": 28,
     "metadata": {},
     "output_type": "execute_result"
    }
   ],
   "source": [
    "True or False or False"
   ]
  },
  {
   "cell_type": "code",
   "execution_count": 29,
   "id": "dbacf68c",
   "metadata": {},
   "outputs": [
    {
     "data": {
      "text/plain": [
       "False"
      ]
     },
     "execution_count": 29,
     "metadata": {},
     "output_type": "execute_result"
    }
   ],
   "source": [
    "False or False or False"
   ]
  },
  {
   "cell_type": "code",
   "execution_count": 30,
   "id": "d9655190",
   "metadata": {},
   "outputs": [
    {
     "name": "stdout",
     "output_type": "stream",
     "text": [
      "하나라도 참\n"
     ]
    }
   ],
   "source": [
    "if (0 < 1) or (1 < 0):\n",
    "    print('하나라도 참')\n",
    "else:\n",
    "    print('허참')"
   ]
  },
  {
   "cell_type": "code",
   "execution_count": 31,
   "id": "41b95304",
   "metadata": {},
   "outputs": [
    {
     "name": "stdout",
     "output_type": "stream",
     "text": [
      "허참\n"
     ]
    }
   ],
   "source": [
    "if (10 < 1) or (1 < 0):\n",
    "    print('하나라도 참')\n",
    "else:\n",
    "    print('허참')"
   ]
  },
  {
   "cell_type": "markdown",
   "id": "9d62d238",
   "metadata": {},
   "source": [
    "### not\n",
    "- bool 값을 반전시킵니다."
   ]
  },
  {
   "cell_type": "code",
   "execution_count": 32,
   "id": "e0823019",
   "metadata": {},
   "outputs": [
    {
     "data": {
      "text/plain": [
       "False"
      ]
     },
     "execution_count": 32,
     "metadata": {},
     "output_type": "execute_result"
    }
   ],
   "source": [
    "not True"
   ]
  },
  {
   "cell_type": "code",
   "execution_count": 33,
   "id": "87687b05",
   "metadata": {},
   "outputs": [
    {
     "data": {
      "text/plain": [
       "True"
      ]
     },
     "execution_count": 33,
     "metadata": {},
     "output_type": "execute_result"
    }
   ],
   "source": [
    "not False"
   ]
  },
  {
   "cell_type": "code",
   "execution_count": 34,
   "id": "a9a047af",
   "metadata": {},
   "outputs": [],
   "source": [
    "if not True:\n",
    "    print('not True')"
   ]
  },
  {
   "cell_type": "code",
   "execution_count": 35,
   "id": "8ea0d890",
   "metadata": {},
   "outputs": [
    {
     "name": "stdout",
     "output_type": "stream",
     "text": [
      "not False\n"
     ]
    }
   ],
   "source": [
    "if not False:\n",
    "    print('not False')"
   ]
  }
 ],
 "metadata": {
  "kernelspec": {
   "display_name": "Python 3 (ipykernel)",
   "language": "python",
   "name": "python3"
  },
  "language_info": {
   "codemirror_mode": {
    "name": "ipython",
    "version": 3
   },
   "file_extension": ".py",
   "mimetype": "text/x-python",
   "name": "python",
   "nbconvert_exporter": "python",
   "pygments_lexer": "ipython3",
   "version": "3.8.13"
  }
 },
 "nbformat": 4,
 "nbformat_minor": 5
}
