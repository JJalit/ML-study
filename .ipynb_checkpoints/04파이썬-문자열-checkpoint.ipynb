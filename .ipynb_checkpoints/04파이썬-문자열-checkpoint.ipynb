{
 "cells": [
  {
   "cell_type": "markdown",
   "id": "e5bf6fa2",
   "metadata": {},
   "source": [
    "## 문자열\n",
    "데이터 분석에 있어서 문자열(텍스트) 데이터의 중요성\n",
    "- 자연어처리 데이터는 대부분이 텍스트 데이터로 이루어져 있습니다.\n",
    "- 우리가 흔히 접하는 Excel 혹은 Table 데이터안에도 수많은 텍스트 데이터가 존재합니다.\n",
    "- 게다가 우리나라는 영어와 더불어 **한글**까지 추가로 처리 할 수 있어야 합니다!!"
   ]
  },
  {
   "cell_type": "markdown",
   "id": "ad9c4a79",
   "metadata": {},
   "source": [
    "### 특성\n",
    "- 문자열 역시 리스트(list), 튜플(tuple)과 마찬가지로 sequence 형 자료구조를 가집니다.\n",
    "- 문자열은 불변(immutable) 객체입니다."
   ]
  },
  {
   "cell_type": "markdown",
   "id": "284a58db",
   "metadata": {},
   "source": [
    "### 문자열의 생성\n",
    "파이썬의 문자열은 작은 따옴표(')나 큰 따옴표(\") 모두 구분없이 사용하여 문자열을 생성할 수 있습니다."
   ]
  },
  {
   "cell_type": "markdown",
   "id": "49fc3046",
   "metadata": {},
   "source": [
    "작은 따옴표(') 사용"
   ]
  },
  {
   "cell_type": "code",
   "execution_count": 1,
   "id": "24531361",
   "metadata": {},
   "outputs": [
    {
     "data": {
      "text/plain": [
       "'안녕하세요? 반갑습니다.'"
      ]
     },
     "execution_count": 1,
     "metadata": {},
     "output_type": "execute_result"
    }
   ],
   "source": [
    "'안녕하세요? 반갑습니다.'"
   ]
  },
  {
   "cell_type": "markdown",
   "id": "e77186d7",
   "metadata": {},
   "source": [
    "큰 따옴표(\") 사용"
   ]
  },
  {
   "cell_type": "code",
   "execution_count": 2,
   "id": "a6b1a2c7",
   "metadata": {},
   "outputs": [
    {
     "data": {
      "text/plain": [
       "'안녕하세요? 반갑습니다.'"
      ]
     },
     "execution_count": 2,
     "metadata": {},
     "output_type": "execute_result"
    }
   ],
   "source": [
    "\"안녕하세요? 반갑습니다.\""
   ]
  },
  {
   "cell_type": "markdown",
   "id": "454737fc",
   "metadata": {},
   "source": [
    "작은 따옴표 3개 혹은 큰 따옴표 3개를 써서 **여러 줄의 문자열을 생성**할 수 있습니다."
   ]
  },
  {
   "cell_type": "code",
   "execution_count": 3,
   "id": "66959722",
   "metadata": {},
   "outputs": [
    {
     "name": "stdout",
     "output_type": "stream",
     "text": [
      "안녕하세요?\n",
      "반가워요\n",
      "내이름은 \n",
      "파이썬 입니다.\n"
     ]
    }
   ],
   "source": [
    "sample = '''안녕하세요?\n",
    "반가워요\n",
    "내이름은 \n",
    "파이썬 입니다.'''\n",
    "\n",
    "print(sample)"
   ]
  },
  {
   "cell_type": "code",
   "execution_count": 4,
   "id": "06a02b04",
   "metadata": {},
   "outputs": [
    {
     "name": "stdout",
     "output_type": "stream",
     "text": [
      "안녕하세요?\n",
      "반가워요\n",
      "내이름은 \n",
      "파이썬 입니다.\n",
      "\n",
      "웰컴!\n",
      "\n"
     ]
    }
   ],
   "source": [
    "sample = \"\"\"안녕하세요?\n",
    "반가워요\n",
    "내이름은 \n",
    "파이썬 입니다.\n",
    "\n",
    "웰컴!\n",
    "\"\"\"\n",
    "\n",
    "print(sample)"
   ]
  },
  {
   "cell_type": "markdown",
   "id": "dcaabcd6",
   "metadata": {},
   "source": [
    "### 문자열 출력 (포맷팅)"
   ]
  },
  {
   "cell_type": "markdown",
   "id": "2b50d995",
   "metadata": {},
   "source": [
    "### print() : 출력"
   ]
  },
  {
   "cell_type": "code",
   "execution_count": 5,
   "id": "eba35e82",
   "metadata": {},
   "outputs": [
    {
     "name": "stdout",
     "output_type": "stream",
     "text": [
      "헬로우 파이썬\n"
     ]
    }
   ],
   "source": [
    "print('헬로우 파이썬')"
   ]
  },
  {
   "cell_type": "code",
   "execution_count": 6,
   "id": "610e8594",
   "metadata": {},
   "outputs": [
    {
     "name": "stdout",
     "output_type": "stream",
     "text": [
      "문자열 첫째 그리고, 둘째\n"
     ]
    }
   ],
   "source": [
    "print('문자열 첫째', '그리고, 둘째')"
   ]
  },
  {
   "cell_type": "markdown",
   "id": "0a81a42a",
   "metadata": {},
   "source": [
    "`end`옵션으로 출력될 마지막 글자를 변경할 수 있습니다. (기본값:\\n)\n",
    "- [참고]: \\n은 개행을 의미하는 특수 문자입니다."
   ]
  },
  {
   "cell_type": "code",
   "execution_count": 7,
   "id": "ba8460b8",
   "metadata": {},
   "outputs": [
    {
     "name": "stdout",
     "output_type": "stream",
     "text": [
      "a a\n",
      "a\n"
     ]
    }
   ],
   "source": [
    "print('a', end=' ')\n",
    "print('a')\n",
    "print('a')"
   ]
  },
  {
   "cell_type": "code",
   "execution_count": 8,
   "id": "feb4325d",
   "metadata": {},
   "outputs": [
    {
     "name": "stdout",
     "output_type": "stream",
     "text": [
      "여기까지!end출력!"
     ]
    }
   ],
   "source": [
    "print('여기까지!', end='end출력!')"
   ]
  },
  {
   "cell_type": "markdown",
   "id": "4adbead1",
   "metadata": {},
   "source": [
    "`sep`옵션으로 출력될 문자열 사이에 출력될 글자를 변경할 수 있습니다. (기본값: 공백)"
   ]
  },
  {
   "cell_type": "code",
   "execution_count": 9,
   "id": "9bbb2e78",
   "metadata": {},
   "outputs": [
    {
     "name": "stdout",
     "output_type": "stream",
     "text": [
      "문자1 <구분> 문자1 <구분> 문자3\n"
     ]
    }
   ],
   "source": [
    "print('문자1', '문자1', '문자3', sep=' <구분> ')"
   ]
  },
  {
   "cell_type": "markdown",
   "id": "ba876220",
   "metadata": {},
   "source": [
    "### %를 사용한 출력"
   ]
  },
  {
   "cell_type": "code",
   "execution_count": 10,
   "id": "42a716a4",
   "metadata": {},
   "outputs": [
    {
     "data": {
      "text/plain": [
       "'안녕하세요? 반갑습니다.'"
      ]
     },
     "execution_count": 10,
     "metadata": {},
     "output_type": "execute_result"
    }
   ],
   "source": [
    "\"안녕하세요? %s\" % ('반갑습니다.')"
   ]
  },
  {
   "cell_type": "code",
   "execution_count": 11,
   "id": "a3124308",
   "metadata": {},
   "outputs": [
    {
     "data": {
      "text/plain": [
       "'안녕하세요? 0.123'"
      ]
     },
     "execution_count": 11,
     "metadata": {},
     "output_type": "execute_result"
    }
   ],
   "source": [
    "'안녕하세요? %.3f' % (0.123456)"
   ]
  },
  {
   "cell_type": "code",
   "execution_count": 12,
   "id": "e65181e6",
   "metadata": {},
   "outputs": [
    {
     "data": {
      "text/plain": [
       "'안녕하세요? 12345'"
      ]
     },
     "execution_count": 12,
     "metadata": {},
     "output_type": "execute_result"
    }
   ],
   "source": [
    "'안녕하세요? %d' % (12345)"
   ]
  },
  {
   "cell_type": "code",
   "execution_count": 13,
   "id": "defb70d0",
   "metadata": {},
   "outputs": [
    {
     "data": {
      "text/plain": [
       "'안녕하세요? a'"
      ]
     },
     "execution_count": 13,
     "metadata": {},
     "output_type": "execute_result"
    }
   ],
   "source": [
    "'안녕하세요? %c' % ('a')"
   ]
  },
  {
   "cell_type": "markdown",
   "id": "6606d60c",
   "metadata": {},
   "source": [
    "### {}와 format를 사용한 출력"
   ]
  },
  {
   "cell_type": "code",
   "execution_count": 14,
   "id": "89fd4451",
   "metadata": {},
   "outputs": [
    {
     "data": {
      "text/plain": [
       "'웰컴투? 파이썬.'"
      ]
     },
     "execution_count": 14,
     "metadata": {},
     "output_type": "execute_result"
    }
   ],
   "source": [
    "'웰컴투? {}'.format('파이썬.')"
   ]
  },
  {
   "cell_type": "code",
   "execution_count": 15,
   "id": "0b029bb1",
   "metadata": {},
   "outputs": [
    {
     "data": {
      "text/plain": [
       "'비밀번호 486'"
      ]
     },
     "execution_count": 15,
     "metadata": {},
     "output_type": "execute_result"
    }
   ],
   "source": [
    "'비밀번호 {}'.format(486)"
   ]
  },
  {
   "cell_type": "markdown",
   "id": "f6b6341d",
   "metadata": {},
   "source": [
    "소수점 2자리 까지 제한하는 경우 (그 이하자리는 반올림)"
   ]
  },
  {
   "cell_type": "code",
   "execution_count": 18,
   "id": "70c302c8",
   "metadata": {},
   "outputs": [
    {
     "data": {
      "text/plain": [
       "'원주율? 3.14'"
      ]
     },
     "execution_count": 18,
     "metadata": {},
     "output_type": "execute_result"
    }
   ],
   "source": [
    "'원주율? {:.2f}'.format(3.141592)"
   ]
  },
  {
   "cell_type": "markdown",
   "id": "232487cb",
   "metadata": {},
   "source": [
    "### f 문자열 포맷팅 (python 3.6 이상만 지원)"
   ]
  },
  {
   "cell_type": "code",
   "execution_count": 19,
   "id": "3a628453",
   "metadata": {},
   "outputs": [
    {
     "name": "stdout",
     "output_type": "stream",
     "text": [
      "나의 이름은 펭수입니다. 나이는 10 살입니다.\n"
     ]
    }
   ],
   "source": [
    "name = '펭수'\n",
    "age = 10\n",
    "print(f'나의 이름은 {name}입니다. 나이는 {age} 살입니다.')"
   ]
  },
  {
   "cell_type": "code",
   "execution_count": 21,
   "id": "8a7147bf",
   "metadata": {},
   "outputs": [
    {
     "name": "stdout",
     "output_type": "stream",
     "text": [
      "내년에 저는 11 살입니다.\n"
     ]
    }
   ],
   "source": [
    "print(f'내년에 저는 {age+1} 살입니다.')"
   ]
  },
  {
   "cell_type": "code",
   "execution_count": 24,
   "id": "cb37ea12",
   "metadata": {},
   "outputs": [],
   "source": [
    "d = {'name': '펭수', 'age': 10}"
   ]
  },
  {
   "cell_type": "code",
   "execution_count": 29,
   "id": "e7d1bcae",
   "metadata": {},
   "outputs": [
    {
     "name": "stdout",
     "output_type": "stream",
     "text": [
      "반가워요. 저는 펭수입니다. 저의 나이는 10 살입니다.\n"
     ]
    }
   ],
   "source": [
    "print(f\"반가워요. 저는 {d['name']}입니다. 저의 나이는 {age} 살입니다.\")"
   ]
  },
  {
   "cell_type": "code",
   "execution_count": 34,
   "id": "705c1f80",
   "metadata": {},
   "outputs": [],
   "source": [
    "# 연습문제\n",
    "\n",
    "a = 3.141592\n",
    "b = 6.181112"
   ]
  },
  {
   "cell_type": "code",
   "execution_count": 32,
   "id": "37ea2d1c",
   "metadata": {},
   "outputs": [
    {
     "data": {
      "text/plain": [
       "'a의 값은 3.142, b의 값은 6.181입니다'"
      ]
     },
     "execution_count": 32,
     "metadata": {},
     "output_type": "execute_result"
    }
   ],
   "source": [
    "'a의 값은 %.3f, b의 값은 %.3f입니다' % (a, b)"
   ]
  },
  {
   "cell_type": "markdown",
   "id": "a82b94eb",
   "metadata": {},
   "source": [
    "### 문자열 길이"
   ]
  },
  {
   "cell_type": "markdown",
   "id": "cfd533bf",
   "metadata": {},
   "source": [
    "### 영문 (alphabet)"
   ]
  },
  {
   "cell_type": "code",
   "execution_count": 35,
   "id": "a3bb454d",
   "metadata": {},
   "outputs": [
    {
     "data": {
      "text/plain": [
       "6"
      ]
     },
     "execution_count": 35,
     "metadata": {},
     "output_type": "execute_result"
    }
   ],
   "source": [
    "len('banana')"
   ]
  },
  {
   "cell_type": "markdown",
   "id": "3e2165ad",
   "metadata": {},
   "source": [
    "**공백**은 길이에 포함됩니다."
   ]
  },
  {
   "cell_type": "code",
   "execution_count": 36,
   "id": "5b7c58af",
   "metadata": {},
   "outputs": [
    {
     "data": {
      "text/plain": [
       "10"
      ]
     },
     "execution_count": 36,
     "metadata": {},
     "output_type": "execute_result"
    }
   ],
   "source": [
    "len('banana pen')"
   ]
  },
  {
   "cell_type": "markdown",
   "id": "8e450a0c",
   "metadata": {},
   "source": [
    "### 한글"
   ]
  },
  {
   "cell_type": "code",
   "execution_count": 37,
   "id": "3b310273",
   "metadata": {},
   "outputs": [
    {
     "data": {
      "text/plain": [
       "2"
      ]
     },
     "execution_count": 37,
     "metadata": {},
     "output_type": "execute_result"
    }
   ],
   "source": [
    "len('한글')"
   ]
  },
  {
   "cell_type": "markdown",
   "id": "f62ef176",
   "metadata": {},
   "source": [
    "**공백**은 길이에 포함됩니다."
   ]
  },
  {
   "cell_type": "code",
   "execution_count": 38,
   "id": "a0766750",
   "metadata": {},
   "outputs": [
    {
     "data": {
      "text/plain": [
       "7"
      ]
     },
     "execution_count": 38,
     "metadata": {},
     "output_type": "execute_result"
    }
   ],
   "source": [
    "len('한글이 최고!')"
   ]
  },
  {
   "cell_type": "markdown",
   "id": "523b5d4f",
   "metadata": {},
   "source": [
    "### 인덱싱 (indexing)\n",
    "- 문자열에서 한 개의 글자(char)를 조회하기 위해서는 **[]를 활용한 인덱싱으로 조회**할 수 있습니다."
   ]
  },
  {
   "cell_type": "code",
   "execution_count": 39,
   "id": "ca464b53",
   "metadata": {},
   "outputs": [
    {
     "data": {
      "text/plain": [
       "'Python is my life'"
      ]
     },
     "execution_count": 39,
     "metadata": {},
     "output_type": "execute_result"
    }
   ],
   "source": [
    "a = 'Python is my life'\n",
    "a"
   ]
  },
  {
   "cell_type": "markdown",
   "id": "df833889",
   "metadata": {},
   "source": [
    "<div class=\"jp-RenderedHTMLCommon jp-RenderedMarkdown jp-MarkdownOutput \" data-mime-type=\"text/markdown\">\n",
    "<table>\n",
    "<thead><tr>\n",
    "<th>P</th>\n",
    "<th>y</th>\n",
    "<th>t</th>\n",
    "<th>h</th>\n",
    "<th>o</th>\n",
    "<th>n</th>\n",
    "<th></th>\n",
    "<th>i</th>\n",
    "<th>s</th>\n",
    "<th></th>\n",
    "<th>m</th>\n",
    "<th>y</th>\n",
    "<th></th>\n",
    "<th>l</th>\n",
    "<th>i</th>\n",
    "<th>f</th>\n",
    "<th>e</th>\n",
    "</tr>\n",
    "</thead>\n",
    "<tbody>\n",
    "<tr>\n",
    "<td>0</td>\n",
    "<td>1</td>\n",
    "<td>2</td>\n",
    "<td>3</td>\n",
    "<td>4</td>\n",
    "<td>5</td>\n",
    "<td>6</td>\n",
    "<td>7</td>\n",
    "<td>8</td>\n",
    "<td>9</td>\n",
    "<td>10</td>\n",
    "<td>11</td>\n",
    "<td>12</td>\n",
    "<td>13</td>\n",
    "<td>14</td>\n",
    "<td>15</td>\n",
    "<td>16</td>\n",
    "</tr>\n",
    "<tr>\n",
    "<td>-17</td>\n",
    "<td>-16</td>\n",
    "<td>-15</td>\n",
    "<td>-14</td>\n",
    "<td>-13</td>\n",
    "<td>-12</td>\n",
    "<td>-11</td>\n",
    "<td>-10</td>\n",
    "<td>-9</td>\n",
    "<td>-8</td>\n",
    "<td>-7</td>\n",
    "<td>-6</td>\n",
    "<td>-5</td>\n",
    "<td>-4</td>\n",
    "<td>-3</td>\n",
    "<td>-2</td>\n",
    "<td>-1</td>\n",
    "</tr>\n",
    "</tbody>\n",
    "</table>\n",
    "\n",
    "</div>"
   ]
  },
  {
   "cell_type": "markdown",
   "id": "f3053619",
   "metadata": {},
   "source": [
    "### 슬라이싱 (Slicing)\n",
    "- 슬라이싱의 활용: [start:stop:step]을 명시하여 부분을 추출할 수 있습니다."
   ]
  },
  {
   "cell_type": "code",
   "execution_count": 40,
   "id": "09d36840",
   "metadata": {},
   "outputs": [
    {
     "data": {
      "text/plain": [
       "'Python is my life'"
      ]
     },
     "execution_count": 40,
     "metadata": {},
     "output_type": "execute_result"
    }
   ],
   "source": [
    "a[:]"
   ]
  },
  {
   "cell_type": "markdown",
   "id": "d059fa83",
   "metadata": {},
   "source": [
    "[start:]는 시작 index 부터 끝까지 추출합니다."
   ]
  },
  {
   "cell_type": "code",
   "execution_count": 41,
   "id": "1515be42",
   "metadata": {},
   "outputs": [
    {
     "data": {
      "text/plain": [
       "'hon is my life'"
      ]
     },
     "execution_count": 41,
     "metadata": {},
     "output_type": "execute_result"
    }
   ],
   "source": [
    "a[3:]"
   ]
  },
  {
   "cell_type": "code",
   "execution_count": 42,
   "id": "b1b3bba1",
   "metadata": {},
   "outputs": [
    {
     "data": {
      "text/plain": [
       "'life'"
      ]
     },
     "execution_count": 42,
     "metadata": {},
     "output_type": "execute_result"
    }
   ],
   "source": [
    "a[-4:]"
   ]
  },
  {
   "cell_type": "markdown",
   "id": "94525bbd",
   "metadata": {},
   "source": [
    "[:end]는 처음부터 end 전까지 추출합니다."
   ]
  },
  {
   "cell_type": "code",
   "execution_count": 43,
   "id": "079b7236",
   "metadata": {},
   "outputs": [
    {
     "data": {
      "text/plain": [
       "'Python'"
      ]
     },
     "execution_count": 43,
     "metadata": {},
     "output_type": "execute_result"
    }
   ],
   "source": [
    "a[:6]"
   ]
  },
  {
   "cell_type": "code",
   "execution_count": 44,
   "id": "95933e1f",
   "metadata": {},
   "outputs": [
    {
     "data": {
      "text/plain": [
       "'Python is my l'"
      ]
     },
     "execution_count": 44,
     "metadata": {},
     "output_type": "execute_result"
    }
   ],
   "source": [
    "a[:-3]"
   ]
  },
  {
   "cell_type": "markdown",
   "id": "e1e793f0",
   "metadata": {},
   "source": [
    "[start:end]는 start부터 end 전까지 추출합니다."
   ]
  },
  {
   "cell_type": "code",
   "execution_count": 45,
   "id": "89c4a306",
   "metadata": {},
   "outputs": [
    {
     "data": {
      "text/plain": [
       "'hon'"
      ]
     },
     "execution_count": 45,
     "metadata": {},
     "output_type": "execute_result"
    }
   ],
   "source": [
    "a[3:6]"
   ]
  },
  {
   "cell_type": "markdown",
   "id": "7ed12164",
   "metadata": {},
   "source": [
    "[start:stop:step]에서 step 지정시 step만큼 건너 뛰면서 추출합니다."
   ]
  },
  {
   "cell_type": "code",
   "execution_count": 46,
   "id": "2bcce29c",
   "metadata": {},
   "outputs": [
    {
     "data": {
      "text/plain": [
       "'Pto sm ie'"
      ]
     },
     "execution_count": 46,
     "metadata": {},
     "output_type": "execute_result"
    }
   ],
   "source": [
    "a[::2]"
   ]
  },
  {
   "cell_type": "markdown",
   "id": "ebbf6330",
   "metadata": {},
   "source": [
    "역순으로 출력하기 위해서는 step을 -1로 지정합니다."
   ]
  },
  {
   "cell_type": "code",
   "execution_count": 47,
   "id": "5d6199e4",
   "metadata": {},
   "outputs": [
    {
     "data": {
      "text/plain": [
       "'efil ym si nohtyP'"
      ]
     },
     "execution_count": 47,
     "metadata": {},
     "output_type": "execute_result"
    }
   ],
   "source": [
    "a[::-1]"
   ]
  },
  {
   "cell_type": "code",
   "execution_count": 49,
   "id": "33bb5c3a",
   "metadata": {},
   "outputs": [
    {
     "data": {
      "text/plain": [
       "'date: 20210101, weather: Sunny'"
      ]
     },
     "execution_count": 49,
     "metadata": {},
     "output_type": "execute_result"
    }
   ],
   "source": [
    "# 연습문제\n",
    "\n",
    "sample = '20210101Sunny'\n",
    "date = sample[:8]\n",
    "weather = sample[8:]\n",
    "'date: %s, weather: %s' % (date, weather)"
   ]
  },
  {
   "cell_type": "markdown",
   "id": "de2a9e6c",
   "metadata": {},
   "source": [
    "### 불변(immutable)\n",
    "- 문자열은 index를 통해 값을 수정 및 변경이 불가합니다.\n",
    "- 하지만 메서드(method)로 변경할 수 있습니다."
   ]
  },
  {
   "cell_type": "code",
   "execution_count": 50,
   "id": "f871aad6",
   "metadata": {},
   "outputs": [],
   "source": [
    "a = 'Python is my life'"
   ]
  },
  {
   "cell_type": "markdown",
   "id": "3fb19de7",
   "metadata": {},
   "source": [
    "index에 값을 할당하여 변경하려는 경우"
   ]
  },
  {
   "cell_type": "code",
   "execution_count": 51,
   "id": "c1f616a6",
   "metadata": {},
   "outputs": [
    {
     "data": {
      "text/plain": [
       "'t'"
      ]
     },
     "execution_count": 51,
     "metadata": {},
     "output_type": "execute_result"
    }
   ],
   "source": [
    "a[2]"
   ]
  },
  {
   "cell_type": "code",
   "execution_count": 52,
   "id": "2eef2fd8",
   "metadata": {},
   "outputs": [
    {
     "ename": "TypeError",
     "evalue": "'str' object does not support item assignment",
     "output_type": "error",
     "traceback": [
      "\u001b[0;31m---------------------------------------------------------------------------\u001b[0m",
      "\u001b[0;31mTypeError\u001b[0m                                 Traceback (most recent call last)",
      "Input \u001b[0;32mIn [52]\u001b[0m, in \u001b[0;36m<cell line: 1>\u001b[0;34m()\u001b[0m\n\u001b[0;32m----> 1\u001b[0m a[\u001b[38;5;241m2\u001b[39m] \u001b[38;5;241m=\u001b[39m \u001b[38;5;124m'\u001b[39m\u001b[38;5;124mY\u001b[39m\u001b[38;5;124m'\u001b[39m\n",
      "\u001b[0;31mTypeError\u001b[0m: 'str' object does not support item assignment"
     ]
    }
   ],
   "source": [
    "a[2] = 'Y'"
   ]
  },
  {
   "cell_type": "markdown",
   "id": "b6894051",
   "metadata": {},
   "source": [
    "del로 부분 삭제하려는 경우"
   ]
  },
  {
   "cell_type": "code",
   "execution_count": 53,
   "id": "27944a39",
   "metadata": {},
   "outputs": [
    {
     "ename": "TypeError",
     "evalue": "'str' object doesn't support item deletion",
     "output_type": "error",
     "traceback": [
      "\u001b[0;31m---------------------------------------------------------------------------\u001b[0m",
      "\u001b[0;31mTypeError\u001b[0m                                 Traceback (most recent call last)",
      "Input \u001b[0;32mIn [53]\u001b[0m, in \u001b[0;36m<cell line: 1>\u001b[0;34m()\u001b[0m\n\u001b[0;32m----> 1\u001b[0m \u001b[38;5;28;01mdel\u001b[39;00m a[\u001b[38;5;241m2\u001b[39m]\n",
      "\u001b[0;31mTypeError\u001b[0m: 'str' object doesn't support item deletion"
     ]
    }
   ],
   "source": [
    "del a[2]"
   ]
  },
  {
   "cell_type": "markdown",
   "id": "e2c9a81e",
   "metadata": {},
   "source": [
    "### 문자열의 덧셈과 곱셈"
   ]
  },
  {
   "cell_type": "markdown",
   "id": "1feaaf13",
   "metadata": {},
   "source": [
    "### 연결: 문자열의 덧셈\n",
    "덧셈은 문자열을 연결합니다."
   ]
  },
  {
   "cell_type": "code",
   "execution_count": 54,
   "id": "3d272963",
   "metadata": {},
   "outputs": [],
   "source": [
    "a = '반갑습니다!'\n",
    "b = '웰컴 투 파이썬'"
   ]
  },
  {
   "cell_type": "code",
   "execution_count": 55,
   "id": "e7c7ee91",
   "metadata": {},
   "outputs": [
    {
     "data": {
      "text/plain": [
       "'반갑습니다!웰컴 투 파이썬'"
      ]
     },
     "execution_count": 55,
     "metadata": {},
     "output_type": "execute_result"
    }
   ],
   "source": [
    "a + b"
   ]
  },
  {
   "cell_type": "code",
   "execution_count": 56,
   "id": "dcd6de62",
   "metadata": {},
   "outputs": [
    {
     "data": {
      "text/plain": [
       "'반갑습니다!???'"
      ]
     },
     "execution_count": 56,
     "metadata": {},
     "output_type": "execute_result"
    }
   ],
   "source": [
    "a + '???'"
   ]
  },
  {
   "cell_type": "code",
   "execution_count": 57,
   "id": "6a4ce086",
   "metadata": {},
   "outputs": [
    {
     "data": {
      "text/plain": [
       "'hello, world'"
      ]
     },
     "execution_count": 57,
     "metadata": {},
     "output_type": "execute_result"
    }
   ],
   "source": [
    "'hello' + ', world'"
   ]
  },
  {
   "cell_type": "markdown",
   "id": "a5ecc16d",
   "metadata": {},
   "source": [
    "### 복제: 문자열의 곱셈\n",
    "문자열을 곱한 숫자 만큼 반복하여 생성합니다."
   ]
  },
  {
   "cell_type": "code",
   "execution_count": 58,
   "id": "d354a44c",
   "metadata": {},
   "outputs": [
    {
     "ename": "TypeError",
     "evalue": "can't multiply sequence by non-int of type 'str'",
     "output_type": "error",
     "traceback": [
      "\u001b[0;31m---------------------------------------------------------------------------\u001b[0m",
      "\u001b[0;31mTypeError\u001b[0m                                 Traceback (most recent call last)",
      "Input \u001b[0;32mIn [58]\u001b[0m, in \u001b[0;36m<cell line: 1>\u001b[0;34m()\u001b[0m\n\u001b[0;32m----> 1\u001b[0m \u001b[43ma\u001b[49m\u001b[43m \u001b[49m\u001b[38;5;241;43m*\u001b[39;49m\u001b[43m \u001b[49m\u001b[43mb\u001b[49m\n",
      "\u001b[0;31mTypeError\u001b[0m: can't multiply sequence by non-int of type 'str'"
     ]
    }
   ],
   "source": [
    "a * b"
   ]
  },
  {
   "cell_type": "code",
   "execution_count": 59,
   "id": "04e82693",
   "metadata": {},
   "outputs": [
    {
     "data": {
      "text/plain": [
       "'반갑습니다!반갑습니다!'"
      ]
     },
     "execution_count": 59,
     "metadata": {},
     "output_type": "execute_result"
    }
   ],
   "source": [
    "a * 2"
   ]
  },
  {
   "cell_type": "code",
   "execution_count": 60,
   "id": "4346ca80",
   "metadata": {},
   "outputs": [
    {
     "name": "stdout",
     "output_type": "stream",
     "text": [
      "abc abc abc abc abc \n",
      "=====================\n"
     ]
    }
   ],
   "source": [
    "print('abc ' * 5)\n",
    "print('===' * 7)"
   ]
  },
  {
   "cell_type": "markdown",
   "id": "b10040c4",
   "metadata": {},
   "source": [
    "### 문자열의 list, set"
   ]
  },
  {
   "cell_type": "markdown",
   "id": "7d872a9c",
   "metadata": {},
   "source": [
    "### 리스트(list)\n",
    "- 문자열을 리스트(list)로 타입 변환이 가능합니다.\n",
    "- 타입 변환시 한 글자를 요소로 갖는 리스트가 생성됩니다."
   ]
  },
  {
   "cell_type": "code",
   "execution_count": 61,
   "id": "68d9f02d",
   "metadata": {},
   "outputs": [
    {
     "data": {
      "text/plain": [
       "['A', 'B', 'C', 'D', 'E']"
      ]
     },
     "execution_count": 61,
     "metadata": {},
     "output_type": "execute_result"
    }
   ],
   "source": [
    "list('ABCDE')"
   ]
  },
  {
   "cell_type": "markdown",
   "id": "a8556130",
   "metadata": {},
   "source": [
    "### 세트(set)\n",
    "- 한 글자를 요소로 갖는 세트가 생성됩니다.\n",
    "- 세트의 특성상 요소를 생성한 후 중복된 글자는 제거됩니다."
   ]
  },
  {
   "cell_type": "code",
   "execution_count": 62,
   "id": "79adb077",
   "metadata": {},
   "outputs": [
    {
     "data": {
      "text/plain": [
       "{'A', 'B', 'C'}"
      ]
     },
     "execution_count": 62,
     "metadata": {},
     "output_type": "execute_result"
    }
   ],
   "source": [
    "set('AAABBBCCC')"
   ]
  },
  {
   "cell_type": "markdown",
   "id": "1d8684f9",
   "metadata": {},
   "source": [
    "중복이 제거된 리스트로 생성하기 위해서는 list로 다시 타입 변환합니다."
   ]
  },
  {
   "cell_type": "code",
   "execution_count": 63,
   "id": "8b499f0e",
   "metadata": {},
   "outputs": [
    {
     "data": {
      "text/plain": [
       "['C', 'B', 'A']"
      ]
     },
     "execution_count": 63,
     "metadata": {},
     "output_type": "execute_result"
    }
   ],
   "source": [
    "list(set('AAABBBCCC'))"
   ]
  },
  {
   "cell_type": "code",
   "execution_count": 65,
   "id": "31fa504a",
   "metadata": {},
   "outputs": [
    {
     "data": {
      "text/plain": [
       "[' ', 'd', 'r', 'o', 'l']"
      ]
     },
     "execution_count": 65,
     "metadata": {},
     "output_type": "execute_result"
    }
   ],
   "source": [
    "# 연습문제\n",
    "\n",
    "a = 'Hello, World'\n",
    "b = 'World To World'\n",
    "c = 'world to world'\n",
    "\n",
    "list(set(a) & set(b) & set(c))"
   ]
  },
  {
   "cell_type": "markdown",
   "id": "9e66796e",
   "metadata": {},
   "source": [
    "### 문자열(텍스트)을 다루는 다양한 기능, 메서드(method)\n",
    "문자열만 가지고 있는 **고유의 편한 기능**들이 있습니다.\n",
    "\n",
    "우리는 이들 중 몇 가지를 배워 앞으로 유용하게 활용할 예정입니다."
   ]
  },
  {
   "cell_type": "markdown",
   "id": "f8d0fc12",
   "metadata": {},
   "source": [
    "### split() : 분리\n",
    "- split은 문장을 특정 규칙에 의해 쪼개 주는 기능을 합니다.\n",
    "- 분리한 결과는 list 형식으로 값을 return 받습니다."
   ]
  },
  {
   "cell_type": "code",
   "execution_count": 66,
   "id": "2aeb67ec",
   "metadata": {},
   "outputs": [],
   "source": [
    "a = 'This is a pen'"
   ]
  },
  {
   "cell_type": "markdown",
   "id": "901e4c5a",
   "metadata": {},
   "source": [
    "기본 값으로 **공백**이 지정되어 있습니다. 즉, 공백을 기준으로 분리하여 리스트로 반환합니다."
   ]
  },
  {
   "cell_type": "code",
   "execution_count": 67,
   "id": "cd6014fb",
   "metadata": {},
   "outputs": [
    {
     "data": {
      "text/plain": [
       "['This', 'is', 'a', 'pen']"
      ]
     },
     "execution_count": 67,
     "metadata": {},
     "output_type": "execute_result"
    }
   ],
   "source": [
    "a.split()"
   ]
  },
  {
   "cell_type": "markdown",
   "id": "3d354119",
   "metadata": {},
   "source": [
    "기본 값인 **공백**에서 **특정 문자**로 지정할 수 있습니다."
   ]
  },
  {
   "cell_type": "code",
   "execution_count": 75,
   "id": "d1528b01",
   "metadata": {},
   "outputs": [],
   "source": [
    "a = 'This-is-a-pen'"
   ]
  },
  {
   "cell_type": "code",
   "execution_count": 76,
   "id": "690d32f0",
   "metadata": {},
   "outputs": [
    {
     "data": {
      "text/plain": [
       "['This-is-a-pen']"
      ]
     },
     "execution_count": 76,
     "metadata": {},
     "output_type": "execute_result"
    }
   ],
   "source": [
    "a.split()"
   ]
  },
  {
   "cell_type": "code",
   "execution_count": 77,
   "id": "f89f84ab",
   "metadata": {},
   "outputs": [
    {
     "data": {
      "text/plain": [
       "['This', 'is', 'a', 'pen']"
      ]
     },
     "execution_count": 77,
     "metadata": {},
     "output_type": "execute_result"
    }
   ],
   "source": [
    "a.split('-')"
   ]
  },
  {
   "cell_type": "code",
   "execution_count": 78,
   "id": "73f62398",
   "metadata": {},
   "outputs": [
    {
     "data": {
      "text/plain": [
       "['This', 'is', 'a', 'pen']"
      ]
     },
     "execution_count": 78,
     "metadata": {},
     "output_type": "execute_result"
    }
   ],
   "source": [
    "aa = a.split('-')\n",
    "aa"
   ]
  },
  {
   "cell_type": "markdown",
   "id": "be23572b",
   "metadata": {},
   "source": [
    "`aa`에 반환된 리스트를 대입 후 index로 값을 조회할 수 있습니다."
   ]
  },
  {
   "cell_type": "code",
   "execution_count": 79,
   "id": "628401b7",
   "metadata": {},
   "outputs": [
    {
     "data": {
      "text/plain": [
       "'This'"
      ]
     },
     "execution_count": 79,
     "metadata": {},
     "output_type": "execute_result"
    }
   ],
   "source": [
    "aa[0]"
   ]
  },
  {
   "cell_type": "code",
   "execution_count": 80,
   "id": "5c55811e",
   "metadata": {},
   "outputs": [
    {
     "data": {
      "text/plain": [
       "'a'"
      ]
     },
     "execution_count": 80,
     "metadata": {},
     "output_type": "execute_result"
    }
   ],
   "source": [
    "aa[2]"
   ]
  },
  {
   "cell_type": "code",
   "execution_count": 81,
   "id": "5d18e5e6",
   "metadata": {},
   "outputs": [
    {
     "data": {
      "text/plain": [
       "'Thisa'"
      ]
     },
     "execution_count": 81,
     "metadata": {},
     "output_type": "execute_result"
    }
   ],
   "source": [
    "aa[0] + aa[2]"
   ]
  },
  {
   "cell_type": "markdown",
   "id": "2344f53e",
   "metadata": {},
   "source": [
    "**한글**도 동일하게 적용됩니다."
   ]
  },
  {
   "cell_type": "code",
   "execution_count": 82,
   "id": "69bdc0aa",
   "metadata": {},
   "outputs": [],
   "source": [
    "a = '한글은 어떻게 될까요?'"
   ]
  },
  {
   "cell_type": "code",
   "execution_count": 83,
   "id": "3816598e",
   "metadata": {},
   "outputs": [
    {
     "data": {
      "text/plain": [
       "['한글은', '어떻게', '될까요?']"
      ]
     },
     "execution_count": 83,
     "metadata": {},
     "output_type": "execute_result"
    }
   ],
   "source": [
    "a.split()"
   ]
  },
  {
   "cell_type": "markdown",
   "id": "84c6436c",
   "metadata": {},
   "source": [
    "### join() : 합치기\n",
    "- 결합하고자 하는 문자에 .join() 안에 리스트를 지정하여 결합할 수 있습니다."
   ]
  },
  {
   "cell_type": "code",
   "execution_count": 84,
   "id": "ab9db3c5",
   "metadata": {},
   "outputs": [
    {
     "data": {
      "text/plain": [
       "'010$$1234$$5678'"
      ]
     },
     "execution_count": 84,
     "metadata": {},
     "output_type": "execute_result"
    }
   ],
   "source": [
    "'$$'.join(['010', '1234', '5678'])"
   ]
  },
  {
   "cell_type": "code",
   "execution_count": 85,
   "id": "1ea7a1bb",
   "metadata": {},
   "outputs": [
    {
     "data": {
      "text/plain": [
       "'A-B-C-D-E'"
      ]
     },
     "execution_count": 85,
     "metadata": {},
     "output_type": "execute_result"
    }
   ],
   "source": [
    "'-'.join('ABCDE')"
   ]
  },
  {
   "cell_type": "markdown",
   "id": "91af18a4",
   "metadata": {},
   "source": [
    "### lower(), upper() : 소문자 / 대문자로 만들기"
   ]
  },
  {
   "cell_type": "code",
   "execution_count": 86,
   "id": "eba4245b",
   "metadata": {},
   "outputs": [],
   "source": [
    "a = 'My name is Teddy'"
   ]
  },
  {
   "cell_type": "markdown",
   "id": "20ba5ca1",
   "metadata": {},
   "source": [
    "소문자로 변경"
   ]
  },
  {
   "cell_type": "code",
   "execution_count": 87,
   "id": "e8b13f40",
   "metadata": {},
   "outputs": [
    {
     "data": {
      "text/plain": [
       "'my name is teddy'"
      ]
     },
     "execution_count": 87,
     "metadata": {},
     "output_type": "execute_result"
    }
   ],
   "source": [
    "a.lower()"
   ]
  },
  {
   "cell_type": "markdown",
   "id": "3b6878f5",
   "metadata": {},
   "source": [
    "대문자로 변경"
   ]
  },
  {
   "cell_type": "code",
   "execution_count": 89,
   "id": "06720d92",
   "metadata": {},
   "outputs": [
    {
     "data": {
      "text/plain": [
       "'MY NAME IS TEDDY'"
      ]
     },
     "execution_count": 89,
     "metadata": {},
     "output_type": "execute_result"
    }
   ],
   "source": [
    "a.upper()"
   ]
  },
  {
   "cell_type": "markdown",
   "id": "73f0270d",
   "metadata": {},
   "source": [
    "한글에는 대소문자 구분이 없습니다."
   ]
  },
  {
   "cell_type": "code",
   "execution_count": 90,
   "id": "a6f3163c",
   "metadata": {},
   "outputs": [],
   "source": [
    "a = '한글엔 대소문자가 없어요ㅠ'"
   ]
  },
  {
   "cell_type": "code",
   "execution_count": 91,
   "id": "3dde89ea",
   "metadata": {},
   "outputs": [
    {
     "data": {
      "text/plain": [
       "'한글엔 대소문자가 없어요ㅠ'"
      ]
     },
     "execution_count": 91,
     "metadata": {},
     "output_type": "execute_result"
    }
   ],
   "source": [
    "a.lower()"
   ]
  },
  {
   "cell_type": "code",
   "execution_count": 92,
   "id": "96a69eb6",
   "metadata": {},
   "outputs": [
    {
     "data": {
      "text/plain": [
       "'한글엔 대소문자가 없어요ㅠ'"
      ]
     },
     "execution_count": 92,
     "metadata": {},
     "output_type": "execute_result"
    }
   ],
   "source": [
    "a.upper()"
   ]
  },
  {
   "cell_type": "markdown",
   "id": "1ea1c46e",
   "metadata": {},
   "source": [
    "### startwith, endwith\n",
    "시작과, 끝이 맞는지 결과를 bool로 반환합니다."
   ]
  },
  {
   "cell_type": "code",
   "execution_count": 93,
   "id": "ef61413c",
   "metadata": {},
   "outputs": [],
   "source": [
    "a = '01-sample.png'"
   ]
  },
  {
   "cell_type": "markdown",
   "id": "429cb9b2",
   "metadata": {},
   "source": [
    "### startswith() : 시작하는\n",
    "- 지정한 문자열로 시작하면 True, 그렇지 않다면 False를 반환합니다."
   ]
  },
  {
   "cell_type": "code",
   "execution_count": 94,
   "id": "b89833d9",
   "metadata": {},
   "outputs": [
    {
     "data": {
      "text/plain": [
       "True"
      ]
     },
     "execution_count": 94,
     "metadata": {},
     "output_type": "execute_result"
    }
   ],
   "source": [
    "a.startswith('01')"
   ]
  },
  {
   "cell_type": "code",
   "execution_count": 95,
   "id": "061f9e53",
   "metadata": {},
   "outputs": [
    {
     "data": {
      "text/plain": [
       "False"
      ]
     },
     "execution_count": 95,
     "metadata": {},
     "output_type": "execute_result"
    }
   ],
   "source": [
    "a.startswith('02')"
   ]
  },
  {
   "cell_type": "markdown",
   "id": "e7337f41",
   "metadata": {},
   "source": [
    "### endswith() : 끝나는\n",
    "- 지정한 문자열로 끝나면 True, 그렇지 않다면 False를 반환합니다."
   ]
  },
  {
   "cell_type": "code",
   "execution_count": 96,
   "id": "a509dcb0",
   "metadata": {},
   "outputs": [
    {
     "data": {
      "text/plain": [
       "True"
      ]
     },
     "execution_count": 96,
     "metadata": {},
     "output_type": "execute_result"
    }
   ],
   "source": [
    "a.endswith('.png')"
   ]
  },
  {
   "cell_type": "code",
   "execution_count": 97,
   "id": "2b7ad985",
   "metadata": {},
   "outputs": [
    {
     "data": {
      "text/plain": [
       "False"
      ]
     },
     "execution_count": 97,
     "metadata": {},
     "output_type": "execute_result"
    }
   ],
   "source": [
    "a.endswith('jpg')"
   ]
  },
  {
   "cell_type": "markdown",
   "id": "98c68d16",
   "metadata": {},
   "source": [
    "### replace() : 문자열 바꾸기\n",
    "- 문자열에 **replace(바꿀 대상, 바꾸려는 문자열)** 지정하여 문자열을 변경합니다.\n",
    "- 결과는 복사본이 만들어져 반환됩니다."
   ]
  },
  {
   "cell_type": "code",
   "execution_count": 98,
   "id": "3d7d70b5",
   "metadata": {},
   "outputs": [],
   "source": [
    "a = '01-sample.png'"
   ]
  },
  {
   "cell_type": "code",
   "execution_count": 99,
   "id": "a674c1f3",
   "metadata": {},
   "outputs": [
    {
     "data": {
      "text/plain": [
       "'01-sample.jpg'"
      ]
     },
     "execution_count": 99,
     "metadata": {},
     "output_type": "execute_result"
    }
   ],
   "source": [
    "a.replace('.png', '.jpg')"
   ]
  },
  {
   "cell_type": "markdown",
   "id": "8789ecb3",
   "metadata": {},
   "source": [
    "반환값은 복사본이며 원본에 **변경사항이 바로 적용되지 않습니다.**"
   ]
  },
  {
   "cell_type": "code",
   "execution_count": 100,
   "id": "9c7e96a6",
   "metadata": {},
   "outputs": [
    {
     "data": {
      "text/plain": [
       "'01-sample.png'"
      ]
     },
     "execution_count": 100,
     "metadata": {},
     "output_type": "execute_result"
    }
   ],
   "source": [
    "a"
   ]
  },
  {
   "cell_type": "code",
   "execution_count": 102,
   "id": "f81ed873",
   "metadata": {},
   "outputs": [],
   "source": [
    "new_a = a.replace('.png', '.jpg')"
   ]
  },
  {
   "cell_type": "code",
   "execution_count": 103,
   "id": "2d5caf24",
   "metadata": {},
   "outputs": [
    {
     "name": "stdout",
     "output_type": "stream",
     "text": [
      "01-sample.jpg\n"
     ]
    }
   ],
   "source": [
    "print(new_a)"
   ]
  },
  {
   "cell_type": "markdown",
   "id": "3784ea0f",
   "metadata": {},
   "source": [
    "### 불필요한 공백 제거"
   ]
  },
  {
   "cell_type": "code",
   "execution_count": 104,
   "id": "4e937274",
   "metadata": {},
   "outputs": [],
   "source": [
    "a = '                01-sample.png                        '"
   ]
  },
  {
   "cell_type": "code",
   "execution_count": 105,
   "id": "7179a4a8",
   "metadata": {},
   "outputs": [
    {
     "name": "stdout",
     "output_type": "stream",
     "text": [
      "                01-sample.png                        \n"
     ]
    }
   ],
   "source": [
    "print(a)"
   ]
  },
  {
   "cell_type": "markdown",
   "id": "812d0e9e",
   "metadata": {},
   "source": [
    "**strip은 불필요한 공백을 제거**해 줍니다."
   ]
  },
  {
   "cell_type": "markdown",
   "id": "f6d178c5",
   "metadata": {},
   "source": [
    "### lstrip() : 왼쪽 공백 제거"
   ]
  },
  {
   "cell_type": "code",
   "execution_count": 106,
   "id": "0a01cc0a",
   "metadata": {},
   "outputs": [
    {
     "data": {
      "text/plain": [
       "'01-sample.png                        '"
      ]
     },
     "execution_count": 106,
     "metadata": {},
     "output_type": "execute_result"
    }
   ],
   "source": [
    "a.lstrip()"
   ]
  },
  {
   "cell_type": "markdown",
   "id": "c9fc4364",
   "metadata": {},
   "source": [
    "### rstrip() : 오른쪽 공백 제거"
   ]
  },
  {
   "cell_type": "code",
   "execution_count": 107,
   "id": "0931c24d",
   "metadata": {},
   "outputs": [
    {
     "data": {
      "text/plain": [
       "'                01-sample.png'"
      ]
     },
     "execution_count": 107,
     "metadata": {},
     "output_type": "execute_result"
    }
   ],
   "source": [
    "a.rstrip()"
   ]
  },
  {
   "cell_type": "markdown",
   "id": "95e23947",
   "metadata": {},
   "source": [
    "### strip() : 양쪽 공백 제거"
   ]
  },
  {
   "cell_type": "code",
   "execution_count": 108,
   "id": "d179f69b",
   "metadata": {},
   "outputs": [
    {
     "data": {
      "text/plain": [
       "'01-sample.png'"
      ]
     },
     "execution_count": 108,
     "metadata": {},
     "output_type": "execute_result"
    }
   ],
   "source": [
    "a.strip()"
   ]
  },
  {
   "cell_type": "code",
   "execution_count": null,
   "id": "affb98ce",
   "metadata": {},
   "outputs": [],
   "source": []
  },
  {
   "cell_type": "code",
   "execution_count": null,
   "id": "7d102f14",
   "metadata": {},
   "outputs": [],
   "source": []
  },
  {
   "cell_type": "code",
   "execution_count": null,
   "id": "c937075d",
   "metadata": {},
   "outputs": [],
   "source": []
  },
  {
   "cell_type": "code",
   "execution_count": null,
   "id": "e77ac1ca",
   "metadata": {},
   "outputs": [],
   "source": []
  },
  {
   "cell_type": "code",
   "execution_count": null,
   "id": "120b0812",
   "metadata": {},
   "outputs": [],
   "source": []
  },
  {
   "cell_type": "code",
   "execution_count": null,
   "id": "09a7dc97",
   "metadata": {},
   "outputs": [],
   "source": []
  },
  {
   "cell_type": "code",
   "execution_count": null,
   "id": "0c08298e",
   "metadata": {},
   "outputs": [],
   "source": []
  }
 ],
 "metadata": {
  "kernelspec": {
   "display_name": "Python 3 (ipykernel)",
   "language": "python",
   "name": "python3"
  },
  "language_info": {
   "codemirror_mode": {
    "name": "ipython",
    "version": 3
   },
   "file_extension": ".py",
   "mimetype": "text/x-python",
   "name": "python",
   "nbconvert_exporter": "python",
   "pygments_lexer": "ipython3",
   "version": "3.8.13"
  }
 },
 "nbformat": 4,
 "nbformat_minor": 5
}
