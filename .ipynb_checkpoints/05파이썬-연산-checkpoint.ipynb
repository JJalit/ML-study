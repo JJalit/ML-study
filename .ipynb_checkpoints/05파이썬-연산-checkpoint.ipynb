{
 "cells": [
  {
   "cell_type": "markdown",
   "id": "c5e37651",
   "metadata": {},
   "source": [
    "## 연산"
   ]
  },
  {
   "cell_type": "markdown",
   "id": "650dc623",
   "metadata": {},
   "source": [
    "Excel에서도 **sum이나 +,-**기호로 셀과 셀 단위, 열과 열단위, 행과 행단위 연산이 가능합니다.\n",
    "\n",
    "python에서도 마찬가지로 사칙 연산외 다양한 연산 기능을 기본ㅇ로 제공해 줍니다. **(사용법도 물론 매우 쉽습니다^^)**"
   ]
  },
  {
   "cell_type": "markdown",
   "id": "86271c39",
   "metadata": {},
   "source": [
    "### 사칙연산 (+,-,/,*)\n",
    "- 더하기 (+)\n",
    "- 빼기 (-)\n",
    "- 나누기 (/)\n",
    "- 곱하기 (*)"
   ]
  },
  {
   "cell_type": "code",
   "execution_count": 1,
   "id": "32786502",
   "metadata": {},
   "outputs": [],
   "source": [
    "a = 10\n",
    "b = 3"
   ]
  },
  {
   "cell_type": "markdown",
   "id": "b0ea203c",
   "metadata": {},
   "source": [
    "### + : 덧셈"
   ]
  },
  {
   "cell_type": "code",
   "execution_count": 2,
   "id": "dc4f1159",
   "metadata": {},
   "outputs": [
    {
     "data": {
      "text/plain": [
       "13"
      ]
     },
     "execution_count": 2,
     "metadata": {},
     "output_type": "execute_result"
    }
   ],
   "source": [
    "a + b"
   ]
  },
  {
   "cell_type": "code",
   "execution_count": 3,
   "id": "60343ed2",
   "metadata": {},
   "outputs": [
    {
     "data": {
      "text/plain": [
       "244"
      ]
     },
     "execution_count": 3,
     "metadata": {},
     "output_type": "execute_result"
    }
   ],
   "source": [
    "10 + 234"
   ]
  },
  {
   "cell_type": "markdown",
   "id": "5deeff37",
   "metadata": {},
   "source": [
    "**+=** 기호는 + (덧셈) 한 뒤 자기 자신의 변수에 재 할당합니다.\n",
    "\n",
    "(예시) `a +=3`은 `a = a + 3`과 같습니다."
   ]
  },
  {
   "cell_type": "code",
   "execution_count": 4,
   "id": "7d2924ba",
   "metadata": {},
   "outputs": [
    {
     "name": "stdout",
     "output_type": "stream",
     "text": [
      "15\n"
     ]
    }
   ],
   "source": [
    "s = 10\n",
    "s += 5\n",
    "print(s)"
   ]
  },
  {
   "cell_type": "markdown",
   "id": "a6aa642c",
   "metadata": {},
   "source": [
    "### - : 뺄셈"
   ]
  },
  {
   "cell_type": "code",
   "execution_count": 5,
   "id": "570d36d8",
   "metadata": {},
   "outputs": [
    {
     "data": {
      "text/plain": [
       "7"
      ]
     },
     "execution_count": 5,
     "metadata": {},
     "output_type": "execute_result"
    }
   ],
   "source": [
    "a - b"
   ]
  },
  {
   "cell_type": "code",
   "execution_count": 6,
   "id": "3875329b",
   "metadata": {},
   "outputs": [
    {
     "data": {
      "text/plain": [
       "1"
      ]
     },
     "execution_count": 6,
     "metadata": {},
     "output_type": "execute_result"
    }
   ],
   "source": [
    "10 - 9"
   ]
  },
  {
   "cell_type": "code",
   "execution_count": 8,
   "id": "f8963170",
   "metadata": {},
   "outputs": [
    {
     "name": "stdout",
     "output_type": "stream",
     "text": [
      "7\n"
     ]
    }
   ],
   "source": [
    "s = 10\n",
    "s -= 3\n",
    "print(s)"
   ]
  },
  {
   "cell_type": "markdown",
   "id": "5a32e693",
   "metadata": {},
   "source": [
    "### / : 나눗셈"
   ]
  },
  {
   "cell_type": "code",
   "execution_count": 9,
   "id": "d98591bd",
   "metadata": {},
   "outputs": [
    {
     "data": {
      "text/plain": [
       "(10, 3)"
      ]
     },
     "execution_count": 9,
     "metadata": {},
     "output_type": "execute_result"
    }
   ],
   "source": [
    "a, b"
   ]
  },
  {
   "cell_type": "code",
   "execution_count": 10,
   "id": "8dbd4c3e",
   "metadata": {},
   "outputs": [
    {
     "data": {
      "text/plain": [
       "3.3333333333333335"
      ]
     },
     "execution_count": 10,
     "metadata": {},
     "output_type": "execute_result"
    }
   ],
   "source": [
    "a / b"
   ]
  },
  {
   "cell_type": "code",
   "execution_count": 11,
   "id": "a9395ad6",
   "metadata": {},
   "outputs": [
    {
     "data": {
      "text/plain": [
       "1.5285714285714285"
      ]
     },
     "execution_count": 11,
     "metadata": {},
     "output_type": "execute_result"
    }
   ],
   "source": [
    "10.7 / 7"
   ]
  },
  {
   "cell_type": "code",
   "execution_count": 12,
   "id": "b8dc6947",
   "metadata": {},
   "outputs": [
    {
     "name": "stdout",
     "output_type": "stream",
     "text": [
      "5.0\n"
     ]
    }
   ],
   "source": [
    "s = 10\n",
    "s /= 2\n",
    "print(s)"
   ]
  },
  {
   "cell_type": "markdown",
   "id": "0020f4ca",
   "metadata": {},
   "source": [
    "### * : 곱셈"
   ]
  },
  {
   "cell_type": "code",
   "execution_count": 13,
   "id": "e1b1520d",
   "metadata": {},
   "outputs": [
    {
     "data": {
      "text/plain": [
       "(10, 3)"
      ]
     },
     "execution_count": 13,
     "metadata": {},
     "output_type": "execute_result"
    }
   ],
   "source": [
    "a, b"
   ]
  },
  {
   "cell_type": "code",
   "execution_count": 14,
   "id": "d501d233",
   "metadata": {},
   "outputs": [
    {
     "data": {
      "text/plain": [
       "30"
      ]
     },
     "execution_count": 14,
     "metadata": {},
     "output_type": "execute_result"
    }
   ],
   "source": [
    "a * b"
   ]
  },
  {
   "cell_type": "code",
   "execution_count": 15,
   "id": "3c173353",
   "metadata": {},
   "outputs": [
    {
     "data": {
      "text/plain": [
       "100"
      ]
     },
     "execution_count": 15,
     "metadata": {},
     "output_type": "execute_result"
    }
   ],
   "source": [
    "a * 10"
   ]
  },
  {
   "cell_type": "markdown",
   "id": "624c948e",
   "metadata": {},
   "source": [
    "### 조금 생소할 수 있는 연산자 (%, //, **)\n",
    "- `//`: **floor division** 연산자입니다. 나눗셈에 대한 **몫**을 정수형으로 구함\n",
    "- `%`: **modulus** 연산자입니다. 몫을 나눈 **나머지**를 구함\n",
    "- `**`: 제곱 연산"
   ]
  },
  {
   "cell_type": "markdown",
   "id": "6ff45d5d",
   "metadata": {},
   "source": [
    "### // : Floor Division\n",
    "- 나눗셈에 대한 **몫**을 정수형으로 구함"
   ]
  },
  {
   "cell_type": "code",
   "execution_count": 16,
   "id": "aa31acaf",
   "metadata": {},
   "outputs": [],
   "source": [
    "a = 10\n",
    "b = 3"
   ]
  },
  {
   "cell_type": "markdown",
   "id": "e5715cd6",
   "metadata": {},
   "source": [
    "일반 나눗셈 연산 결과"
   ]
  },
  {
   "cell_type": "code",
   "execution_count": 17,
   "id": "1f40302f",
   "metadata": {},
   "outputs": [
    {
     "data": {
      "text/plain": [
       "3.3333333333333335"
      ]
     },
     "execution_count": 17,
     "metadata": {},
     "output_type": "execute_result"
    }
   ],
   "source": [
    "a / b"
   ]
  },
  {
   "cell_type": "markdown",
   "id": "8b5c3af0",
   "metadata": {},
   "source": [
    "// 연산 결과"
   ]
  },
  {
   "cell_type": "code",
   "execution_count": 18,
   "id": "d5b31386",
   "metadata": {},
   "outputs": [
    {
     "data": {
      "text/plain": [
       "3"
      ]
     },
     "execution_count": 18,
     "metadata": {},
     "output_type": "execute_result"
    }
   ],
   "source": [
    "a // b"
   ]
  },
  {
   "cell_type": "markdown",
   "id": "3e90f78b",
   "metadata": {},
   "source": [
    "### % : modulus\n",
    "- 몫을 나눈 **나머지**를 구합니다."
   ]
  },
  {
   "cell_type": "code",
   "execution_count": 19,
   "id": "3829e363",
   "metadata": {},
   "outputs": [],
   "source": [
    "a = 10\n",
    "b = 3"
   ]
  },
  {
   "cell_type": "code",
   "execution_count": 20,
   "id": "a2645b1f",
   "metadata": {},
   "outputs": [
    {
     "data": {
      "text/plain": [
       "1"
      ]
     },
     "execution_count": 20,
     "metadata": {},
     "output_type": "execute_result"
    }
   ],
   "source": [
    "a % b"
   ]
  },
  {
   "cell_type": "markdown",
   "id": "79f59398",
   "metadata": {},
   "source": [
    "### ** : 제곱 연산\n",
    "- 제곱 연산을 수행합니다."
   ]
  },
  {
   "cell_type": "code",
   "execution_count": 21,
   "id": "b0455c81",
   "metadata": {},
   "outputs": [],
   "source": [
    "a = 10\n",
    "b = 3"
   ]
  },
  {
   "cell_type": "code",
   "execution_count": 22,
   "id": "268a9b39",
   "metadata": {},
   "outputs": [
    {
     "data": {
      "text/plain": [
       "1000"
      ]
     },
     "execution_count": 22,
     "metadata": {},
     "output_type": "execute_result"
    }
   ],
   "source": [
    "a ** b"
   ]
  },
  {
   "cell_type": "code",
   "execution_count": 23,
   "id": "daf88806",
   "metadata": {},
   "outputs": [
    {
     "data": {
      "text/plain": [
       "1024"
      ]
     },
     "execution_count": 23,
     "metadata": {},
     "output_type": "execute_result"
    }
   ],
   "source": [
    "2 ** 10"
   ]
  },
  {
   "cell_type": "markdown",
   "id": "71a9f316",
   "metadata": {},
   "source": [
    "### 괄호 ()의 활용\n",
    "- 수학 연산할 때와 마찬가지로 \\*,/를 먼저 계산하며, **괄호 ()를 활횽**하여 먼저 연산할 부분을 지정할 수 있습니다."
   ]
  },
  {
   "cell_type": "code",
   "execution_count": 24,
   "id": "02cdd55f",
   "metadata": {},
   "outputs": [
    {
     "data": {
      "text/plain": [
       "20"
      ]
     },
     "execution_count": 24,
     "metadata": {},
     "output_type": "execute_result"
    }
   ],
   "source": [
    "10 + 2 * 5"
   ]
  },
  {
   "cell_type": "code",
   "execution_count": 25,
   "id": "61070042",
   "metadata": {},
   "outputs": [
    {
     "data": {
      "text/plain": [
       "60"
      ]
     },
     "execution_count": 25,
     "metadata": {},
     "output_type": "execute_result"
    }
   ],
   "source": [
    "(10 + 2) * 5"
   ]
  },
  {
   "cell_type": "markdown",
   "id": "38389072",
   "metadata": {},
   "source": [
    "다음과 같은 경우는 어떻게 될까요?"
   ]
  },
  {
   "cell_type": "code",
   "execution_count": 26,
   "id": "e3361478",
   "metadata": {},
   "outputs": [],
   "source": [
    "a = '10'\n",
    "b = '20'"
   ]
  },
  {
   "cell_type": "code",
   "execution_count": 27,
   "id": "905f3ec7",
   "metadata": {},
   "outputs": [
    {
     "data": {
      "text/plain": [
       "'1020'"
      ]
     },
     "execution_count": 27,
     "metadata": {},
     "output_type": "execute_result"
    }
   ],
   "source": [
    "a + b "
   ]
  },
  {
   "cell_type": "markdown",
   "id": "b59ad2c0",
   "metadata": {},
   "source": [
    "연산시 타입(type)이 다르면 Error가 발생합니다."
   ]
  },
  {
   "cell_type": "code",
   "execution_count": 28,
   "id": "5429da44",
   "metadata": {},
   "outputs": [],
   "source": [
    "a = '10'\n",
    "b = 20"
   ]
  },
  {
   "cell_type": "code",
   "execution_count": 29,
   "id": "b900ba68",
   "metadata": {},
   "outputs": [
    {
     "data": {
      "text/plain": [
       "'1020'"
      ]
     },
     "execution_count": 29,
     "metadata": {},
     "output_type": "execute_result"
    }
   ],
   "source": [
    "a + str(b)"
   ]
  },
  {
   "cell_type": "code",
   "execution_count": 31,
   "id": "d2cb0312",
   "metadata": {},
   "outputs": [
    {
     "data": {
      "text/plain": [
       "True"
      ]
     },
     "execution_count": 31,
     "metadata": {},
     "output_type": "execute_result"
    }
   ],
   "source": [
    "# 연습문제\n",
    "\n",
    "a = 10\n",
    "b = 21\n",
    "a ** 3 + 20 + b == 1041"
   ]
  },
  {
   "cell_type": "code",
   "execution_count": 32,
   "id": "459dd7d5",
   "metadata": {},
   "outputs": [
    {
     "name": "stdout",
     "output_type": "stream",
     "text": [
      "True\n",
      "True\n",
      "True\n"
     ]
    }
   ],
   "source": [
    "# 연습문제\n",
    "\n",
    "a = 12\n",
    "b = 3\n",
    "print(a + 3 * b == 21)\n",
    "print((a + 3) // 4 + 3 * b == 12)\n",
    "print(a // b == 4)"
   ]
  },
  {
   "cell_type": "code",
   "execution_count": null,
   "id": "8726e2eb",
   "metadata": {},
   "outputs": [],
   "source": []
  }
 ],
 "metadata": {
  "kernelspec": {
   "display_name": "Python 3 (ipykernel)",
   "language": "python",
   "name": "python3"
  },
  "language_info": {
   "codemirror_mode": {
    "name": "ipython",
    "version": 3
   },
   "file_extension": ".py",
   "mimetype": "text/x-python",
   "name": "python",
   "nbconvert_exporter": "python",
   "pygments_lexer": "ipython3",
   "version": "3.8.13"
  }
 },
 "nbformat": 4,
 "nbformat_minor": 5
}
