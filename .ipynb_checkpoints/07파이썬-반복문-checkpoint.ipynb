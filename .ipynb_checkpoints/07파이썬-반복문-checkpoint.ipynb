{
 "cells": [
  {
   "cell_type": "markdown",
   "id": "6efa05bb",
   "metadata": {},
   "source": [
    "## 반복문\n",
    "- 1회 이상 반복해서 수행하는 일을 반복문으로 통해 쉽게 해결할 수 있습니다.\n",
    "- 반드시 list, tuple, dict, set 등 집합에 대한 순회를 돌며 일을 처리할 때 많이 쓰입니다.\n",
    "- list, tuple, dict, set, 문자열까지 모두 **순회가능한(iterable) 객체** 입니다.\n",
    "- 순회가능한(iterable) 객체는 반복문을 통해 순회할 수 있습니다."
   ]
  },
  {
   "cell_type": "code",
   "execution_count": 1,
   "id": "17266fe2",
   "metadata": {},
   "outputs": [],
   "source": [
    "mylist = [1, 2, 3, 4, 5, 6, 7, 8, 9, 10]"
   ]
  },
  {
   "cell_type": "markdown",
   "id": "93cfc0bd",
   "metadata": {},
   "source": [
    "mylist에 들어 있는 모든 값들을 출력하려고 한다면?"
   ]
  },
  {
   "cell_type": "code",
   "execution_count": 5,
   "id": "1f5036ac",
   "metadata": {},
   "outputs": [
    {
     "name": "stdout",
     "output_type": "stream",
     "text": [
      "1\n",
      "2\n",
      "3\n",
      "...\n",
      "9\n",
      "10\n"
     ]
    }
   ],
   "source": [
    "print(mylist[0])\n",
    "print(mylist[1])\n",
    "print(mylist[2])\n",
    "print('...')\n",
    "print(mylist[8])\n",
    "print(mylist[9])"
   ]
  },
  {
   "cell_type": "markdown",
   "id": "f24c7880",
   "metadata": {},
   "source": [
    "### for 와 in 구문 (반복문)\n",
    "\n",
    "**[기본 문법]**\n",
    "\n",
    "for 하나씩 꺼내올 때 변수 in [꺼내올 집합]:\n",
    "\n",
    "(indent)\n",
    "- list, tuple, set, dictionary, 문자열 형태 모두 가능\n",
    "- range와 결합하여 사용 가능"
   ]
  },
  {
   "cell_type": "markdown",
   "id": "dc2dcf88",
   "metadata": {},
   "source": [
    "### 리스트(list)"
   ]
  },
  {
   "cell_type": "code",
   "execution_count": 6,
   "id": "569bf94b",
   "metadata": {},
   "outputs": [
    {
     "name": "stdout",
     "output_type": "stream",
     "text": [
      "1\n",
      "2\n",
      "3\n",
      "4\n",
      "5\n"
     ]
    }
   ],
   "source": [
    "mylist = [1, 2, 3, 4, 5]\n",
    "for i in mylist:\n",
    "    print(i)"
   ]
  },
  {
   "cell_type": "markdown",
   "id": "378976c0",
   "metadata": {},
   "source": [
    "### 튜플(tuple)"
   ]
  },
  {
   "cell_type": "code",
   "execution_count": 7,
   "id": "358d91bb",
   "metadata": {},
   "outputs": [
    {
     "name": "stdout",
     "output_type": "stream",
     "text": [
      "1\n",
      "2\n",
      "3\n",
      "4\n",
      "5\n"
     ]
    }
   ],
   "source": [
    "for i in (1, 2, 3, 4, 5):\n",
    "    print(i)"
   ]
  },
  {
   "cell_type": "markdown",
   "id": "53e6bd8d",
   "metadata": {},
   "source": [
    "### tuple + list\n",
    "tuple을 전체로 받아주는 경우"
   ]
  },
  {
   "cell_type": "code",
   "execution_count": 8,
   "id": "c4568159",
   "metadata": {},
   "outputs": [
    {
     "name": "stdout",
     "output_type": "stream",
     "text": [
      "('제이콥스', 10)\n",
      "제이콥스\n",
      "10\n"
     ]
    }
   ],
   "source": [
    "person = ('제이콥스', 10)\n",
    "print(person)\n",
    "print(person[0])\n",
    "print(person[1])"
   ]
  },
  {
   "cell_type": "markdown",
   "id": "43038ddc",
   "metadata": {},
   "source": [
    "tuple의 요소를 개별로 받아주는 경우"
   ]
  },
  {
   "cell_type": "code",
   "execution_count": 9,
   "id": "34222b90",
   "metadata": {},
   "outputs": [
    {
     "name": "stdout",
     "output_type": "stream",
     "text": [
      "제이콥스\n",
      "10\n"
     ]
    }
   ],
   "source": [
    "name, age = ('제이콥스', 10)\n",
    "print(name)\n",
    "print(age)"
   ]
  },
  {
   "cell_type": "markdown",
   "id": "f47056a3",
   "metadata": {},
   "source": [
    "반복문에서의 응용"
   ]
  },
  {
   "cell_type": "code",
   "execution_count": 10,
   "id": "5ee67ec8",
   "metadata": {},
   "outputs": [
    {
     "name": "stdout",
     "output_type": "stream",
     "text": [
      "제이콥스 10\n",
      "피터 20\n",
      "타이거 30\n"
     ]
    }
   ],
   "source": [
    "mytuplelist = [('제이콥스', 10), ('피터', 20), ('타이거', 30)]\n",
    "\n",
    "for mytuple in mytuplelist:\n",
    "    print(mytuple[0], mytuple[1])"
   ]
  },
  {
   "cell_type": "code",
   "execution_count": 11,
   "id": "6781dc03",
   "metadata": {},
   "outputs": [
    {
     "name": "stdout",
     "output_type": "stream",
     "text": [
      "제이콥스 10\n",
      "피터 20\n",
      "타이거 30\n"
     ]
    }
   ],
   "source": [
    "mytuplelist = [('제이콥스', 10), ('피터', 20), ('타이거', 30)]\n",
    "\n",
    "for name, age in mytuplelist:\n",
    "    print(name, age)"
   ]
  },
  {
   "cell_type": "markdown",
   "id": "f9b62bee",
   "metadata": {},
   "source": [
    "### 딕셔너리(dictionary)"
   ]
  },
  {
   "cell_type": "code",
   "execution_count": 12,
   "id": "eaf47223",
   "metadata": {},
   "outputs": [],
   "source": [
    "mydict = {'헐크': 50, '아이언맨': 60, '펭수': 70}"
   ]
  },
  {
   "cell_type": "code",
   "execution_count": 13,
   "id": "c2b5d364",
   "metadata": {},
   "outputs": [
    {
     "data": {
      "text/plain": [
       "dict_keys(['헐크', '아이언맨', '펭수'])"
      ]
     },
     "execution_count": 13,
     "metadata": {},
     "output_type": "execute_result"
    }
   ],
   "source": [
    "mydict.keys()"
   ]
  },
  {
   "cell_type": "code",
   "execution_count": 14,
   "id": "1d8d45f1",
   "metadata": {},
   "outputs": [
    {
     "name": "stdout",
     "output_type": "stream",
     "text": [
      "헐크\n",
      "아이언맨\n",
      "펭수\n"
     ]
    }
   ],
   "source": [
    "for key in mydict.keys():\n",
    "    print(key)"
   ]
  },
  {
   "cell_type": "code",
   "execution_count": 15,
   "id": "64a00532",
   "metadata": {},
   "outputs": [
    {
     "name": "stdout",
     "output_type": "stream",
     "text": [
      "50\n",
      "60\n",
      "70\n"
     ]
    }
   ],
   "source": [
    "for value in mydict.values():\n",
    "    print(value)"
   ]
  },
  {
   "cell_type": "code",
   "execution_count": 16,
   "id": "1e3945f0",
   "metadata": {},
   "outputs": [
    {
     "data": {
      "text/plain": [
       "dict_items([('헐크', 50), ('아이언맨', 60), ('펭수', 70)])"
      ]
     },
     "execution_count": 16,
     "metadata": {},
     "output_type": "execute_result"
    }
   ],
   "source": [
    "mydict.items()"
   ]
  },
  {
   "cell_type": "code",
   "execution_count": 17,
   "id": "f3225e04",
   "metadata": {},
   "outputs": [
    {
     "name": "stdout",
     "output_type": "stream",
     "text": [
      "헐크 50\n",
      "아이언맨 60\n",
      "펭수 70\n"
     ]
    }
   ],
   "source": [
    "for name, age in mydict.items():\n",
    "    print(name, age)"
   ]
  },
  {
   "cell_type": "markdown",
   "id": "8dacb175",
   "metadata": {},
   "source": [
    "### 문자열(str)"
   ]
  },
  {
   "cell_type": "code",
   "execution_count": 18,
   "id": "4b20d779",
   "metadata": {},
   "outputs": [
    {
     "name": "stdout",
     "output_type": "stream",
     "text": [
      "H\n",
      "e\n",
      "l\n",
      "l\n",
      "o\n"
     ]
    }
   ],
   "source": [
    "for c in 'Hello':\n",
    "    print(c)"
   ]
  },
  {
   "cell_type": "markdown",
   "id": "85c0fb16",
   "metadata": {},
   "source": [
    "### range()\n",
    "- `range()` 함수는 별도의 list, tuple 생성 없이 range()에서 정의한 범위를 반복하는데 활용할 수 있습니다.\n",
    "- `range(start, end, step)` 형식을 사용합니다."
   ]
  },
  {
   "cell_type": "markdown",
   "id": "a685d377",
   "metadata": {},
   "source": [
    "`stop`: 단일 값을 지정하는 경우"
   ]
  },
  {
   "cell_type": "code",
   "execution_count": 19,
   "id": "5d46c541",
   "metadata": {},
   "outputs": [
    {
     "name": "stdout",
     "output_type": "stream",
     "text": [
      "0\n",
      "1\n",
      "2\n",
      "3\n",
      "4\n",
      "5\n",
      "6\n",
      "7\n",
      "8\n",
      "9\n"
     ]
    }
   ],
   "source": [
    "for i in range(10):\n",
    "    print(i)"
   ]
  },
  {
   "cell_type": "markdown",
   "id": "1d199ad8",
   "metadata": {},
   "source": [
    "`start`, `stop`: 두 개의 값을 지정한 경우"
   ]
  },
  {
   "cell_type": "code",
   "execution_count": 20,
   "id": "9c6d5cb6",
   "metadata": {},
   "outputs": [
    {
     "name": "stdout",
     "output_type": "stream",
     "text": [
      "2\n",
      "3\n",
      "4\n",
      "5\n",
      "6\n",
      "7\n",
      "8\n"
     ]
    }
   ],
   "source": [
    "for i in range(2, 9):\n",
    "    print(i)"
   ]
  },
  {
   "cell_type": "markdown",
   "id": "bf9e2e94",
   "metadata": {},
   "source": [
    "`start`, `stop`, `step`: 세 개의 값을 지정한 경우"
   ]
  },
  {
   "cell_type": "code",
   "execution_count": 21,
   "id": "b2a0718b",
   "metadata": {},
   "outputs": [
    {
     "name": "stdout",
     "output_type": "stream",
     "text": [
      "1\n",
      "3\n",
      "5\n",
      "7\n",
      "9\n"
     ]
    }
   ],
   "source": [
    "for i in range(1, 10, 2):\n",
    "    print(i)"
   ]
  },
  {
   "cell_type": "markdown",
   "id": "212303cd",
   "metadata": {},
   "source": [
    "### 반복문의 중첩"
   ]
  },
  {
   "cell_type": "code",
   "execution_count": 23,
   "id": "7c51ba72",
   "metadata": {},
   "outputs": [
    {
     "name": "stdout",
     "output_type": "stream",
     "text": [
      "(i=1) * (j=1) = 1\n",
      "(i=1) * (j=2) = 2\n",
      "(i=1) * (j=3) = 3\n",
      "===\n",
      "(i=2) * (j=1) = 2\n",
      "(i=2) * (j=2) = 4\n",
      "(i=2) * (j=3) = 6\n",
      "===\n",
      "(i=3) * (j=1) = 3\n",
      "(i=3) * (j=2) = 6\n",
      "(i=3) * (j=3) = 9\n",
      "===\n"
     ]
    }
   ],
   "source": [
    "for i in range(1, 4):\n",
    "    for j in range(1, 4):\n",
    "        print(f'(i={i}) * (j={j}) = {i * j}')\n",
    "    print('===')"
   ]
  },
  {
   "cell_type": "markdown",
   "id": "a1f92acb",
   "metadata": {},
   "source": [
    "### 제어문"
   ]
  },
  {
   "cell_type": "markdown",
   "id": "9432fda0",
   "metadata": {},
   "source": [
    "### continue\n",
    "- 반복문 내부에서 `continue` 구문은 해당 루프(loop)를 건너뛰게 합니다.\n",
    "- `continue`라는 구문을 만나면, 반복문에서 `continue` 아래 작성된 코드는 **실행되지 않고 건너뜁니다.**"
   ]
  },
  {
   "cell_type": "code",
   "execution_count": 24,
   "id": "0fda4ebc",
   "metadata": {},
   "outputs": [],
   "source": [
    "mylist = [1, 2, 3, 4, 5, 6, 7, 8, 9, 10]"
   ]
  },
  {
   "cell_type": "markdown",
   "id": "b0b541e3",
   "metadata": {},
   "source": [
    "**반복문**과 **조건문** 그리고 `continue`를 활용하여 **짝수만 출력**해 주세요"
   ]
  },
  {
   "cell_type": "code",
   "execution_count": 27,
   "id": "74215029",
   "metadata": {},
   "outputs": [
    {
     "name": "stdout",
     "output_type": "stream",
     "text": [
      "2\n",
      "4\n",
      "6\n",
      "8\n",
      "10\n"
     ]
    }
   ],
   "source": [
    "for i in mylist:\n",
    "    if i % 2 != 0:\n",
    "        continue\n",
    "    print(i)\n",
    "        "
   ]
  },
  {
   "cell_type": "markdown",
   "id": "3146f6e1",
   "metadata": {},
   "source": [
    "### break\n",
    "- **break** 구문을 만나면, **반복 루프(loop)는 즉시 종료**됩니다."
   ]
  },
  {
   "cell_type": "code",
   "execution_count": 28,
   "id": "bc6ae7e0",
   "metadata": {},
   "outputs": [],
   "source": [
    "mylist = [1, 2, 3, 4, 5, 6, 7, 8, 9, 10]"
   ]
  },
  {
   "cell_type": "markdown",
   "id": "4c521fee",
   "metadata": {},
   "source": [
    "`break`를 사용하여 i가 6이상이면 STOP"
   ]
  },
  {
   "cell_type": "code",
   "execution_count": 29,
   "id": "b9a127ad",
   "metadata": {},
   "outputs": [
    {
     "name": "stdout",
     "output_type": "stream",
     "text": [
      "1\n",
      "2\n",
      "3\n",
      "4\n",
      "5\n"
     ]
    }
   ],
   "source": [
    "for i in mylist:\n",
    "    if i >= 6:\n",
    "        break\n",
    "    print(i)"
   ]
  },
  {
   "cell_type": "markdown",
   "id": "c3f72aab",
   "metadata": {},
   "source": [
    "### break, continue 차이"
   ]
  },
  {
   "cell_type": "code",
   "execution_count": 30,
   "id": "2c47b419",
   "metadata": {},
   "outputs": [
    {
     "name": "stdout",
     "output_type": "stream",
     "text": [
      "0\n",
      "1\n",
      "2\n",
      "3\n",
      "4\n"
     ]
    }
   ],
   "source": [
    "for i in range(10):\n",
    "    if i == 5:\n",
    "        break\n",
    "    print(i)"
   ]
  },
  {
   "cell_type": "code",
   "execution_count": 31,
   "id": "9ac9d632",
   "metadata": {},
   "outputs": [
    {
     "name": "stdout",
     "output_type": "stream",
     "text": [
      "0\n",
      "1\n",
      "2\n",
      "3\n",
      "4\n",
      "6\n",
      "7\n",
      "8\n",
      "9\n"
     ]
    }
   ],
   "source": [
    "for i in range(10):\n",
    "    if i == 5:\n",
    "        continue\n",
    "    print(i)"
   ]
  },
  {
   "cell_type": "markdown",
   "id": "1d15db18",
   "metadata": {},
   "source": [
    "### While\n",
    "- while문은 while문과 함께 정의한 **조건이 참인 동안 반복 루프를 수행**합니다."
   ]
  },
  {
   "cell_type": "code",
   "execution_count": 32,
   "id": "cbd92781",
   "metadata": {},
   "outputs": [
    {
     "name": "stdout",
     "output_type": "stream",
     "text": [
      "5\n",
      "4\n",
      "3\n",
      "2\n",
      "1\n"
     ]
    }
   ],
   "source": [
    "count = 5\n",
    "\n",
    "while count > 0:\n",
    "    print(count)\n",
    "    count -= 1"
   ]
  },
  {
   "cell_type": "markdown",
   "id": "842b8e6a",
   "metadata": {},
   "source": [
    "많이 사용하는 방법 중 하나는 `while True`로 지정하여 무한 루프를 생성 후, **탈출 구문 루프 내에서 설정**하는 것입니다."
   ]
  },
  {
   "cell_type": "code",
   "execution_count": 33,
   "id": "00a640d9",
   "metadata": {},
   "outputs": [
    {
     "name": "stdout",
     "output_type": "stream",
     "text": [
      "1\n",
      "2\n",
      "3\n",
      "4\n",
      "5\n"
     ]
    }
   ],
   "source": [
    "count = 1\n",
    "\n",
    "while True:\n",
    "    print(count)\n",
    "    count += 1\n",
    "    # 탈출 구문 (break)\n",
    "    if count > 5:\n",
    "        break"
   ]
  },
  {
   "cell_type": "code",
   "execution_count": null,
   "id": "9e9a7639",
   "metadata": {},
   "outputs": [],
   "source": []
  },
  {
   "cell_type": "code",
   "execution_count": null,
   "id": "6167e2ca",
   "metadata": {},
   "outputs": [],
   "source": []
  },
  {
   "cell_type": "code",
   "execution_count": null,
   "id": "03876c6e",
   "metadata": {},
   "outputs": [],
   "source": []
  },
  {
   "cell_type": "code",
   "execution_count": null,
   "id": "f3676f63",
   "metadata": {},
   "outputs": [],
   "source": []
  },
  {
   "cell_type": "code",
   "execution_count": null,
   "id": "2981834a",
   "metadata": {},
   "outputs": [],
   "source": []
  },
  {
   "cell_type": "code",
   "execution_count": null,
   "id": "f8798bca",
   "metadata": {},
   "outputs": [],
   "source": []
  },
  {
   "cell_type": "code",
   "execution_count": null,
   "id": "1e703655",
   "metadata": {},
   "outputs": [],
   "source": []
  },
  {
   "cell_type": "code",
   "execution_count": null,
   "id": "8c1f9266",
   "metadata": {},
   "outputs": [],
   "source": []
  },
  {
   "cell_type": "code",
   "execution_count": null,
   "id": "4733311c",
   "metadata": {},
   "outputs": [],
   "source": []
  },
  {
   "cell_type": "code",
   "execution_count": null,
   "id": "05593fe8",
   "metadata": {},
   "outputs": [],
   "source": []
  },
  {
   "cell_type": "code",
   "execution_count": null,
   "id": "6a3c4d86",
   "metadata": {},
   "outputs": [],
   "source": []
  },
  {
   "cell_type": "code",
   "execution_count": null,
   "id": "12bc5e26",
   "metadata": {},
   "outputs": [],
   "source": []
  },
  {
   "cell_type": "code",
   "execution_count": null,
   "id": "5ff58db0",
   "metadata": {},
   "outputs": [],
   "source": []
  },
  {
   "cell_type": "code",
   "execution_count": null,
   "id": "bb54c5d6",
   "metadata": {},
   "outputs": [],
   "source": []
  },
  {
   "cell_type": "code",
   "execution_count": null,
   "id": "bb301cc7",
   "metadata": {},
   "outputs": [],
   "source": []
  },
  {
   "cell_type": "code",
   "execution_count": null,
   "id": "3bd4096f",
   "metadata": {},
   "outputs": [],
   "source": []
  },
  {
   "cell_type": "code",
   "execution_count": null,
   "id": "29181a83",
   "metadata": {},
   "outputs": [],
   "source": []
  },
  {
   "cell_type": "code",
   "execution_count": null,
   "id": "9879d9b2",
   "metadata": {},
   "outputs": [],
   "source": []
  },
  {
   "cell_type": "code",
   "execution_count": null,
   "id": "fe086fd9",
   "metadata": {},
   "outputs": [],
   "source": []
  },
  {
   "cell_type": "code",
   "execution_count": null,
   "id": "28dcbf6c",
   "metadata": {},
   "outputs": [],
   "source": []
  },
  {
   "cell_type": "code",
   "execution_count": null,
   "id": "9fb08d9a",
   "metadata": {},
   "outputs": [],
   "source": []
  },
  {
   "cell_type": "code",
   "execution_count": null,
   "id": "3609e2ef",
   "metadata": {},
   "outputs": [],
   "source": []
  },
  {
   "cell_type": "code",
   "execution_count": null,
   "id": "7aef072f",
   "metadata": {},
   "outputs": [],
   "source": []
  },
  {
   "cell_type": "code",
   "execution_count": null,
   "id": "44645c58",
   "metadata": {},
   "outputs": [],
   "source": []
  },
  {
   "cell_type": "code",
   "execution_count": null,
   "id": "51399460",
   "metadata": {},
   "outputs": [],
   "source": []
  },
  {
   "cell_type": "code",
   "execution_count": null,
   "id": "d2a6bdf3",
   "metadata": {},
   "outputs": [],
   "source": []
  },
  {
   "cell_type": "code",
   "execution_count": null,
   "id": "fa490414",
   "metadata": {},
   "outputs": [],
   "source": []
  },
  {
   "cell_type": "code",
   "execution_count": null,
   "id": "501f6145",
   "metadata": {},
   "outputs": [],
   "source": []
  },
  {
   "cell_type": "code",
   "execution_count": null,
   "id": "1e93d7fe",
   "metadata": {},
   "outputs": [],
   "source": []
  },
  {
   "cell_type": "code",
   "execution_count": null,
   "id": "3455cdcd",
   "metadata": {},
   "outputs": [],
   "source": []
  },
  {
   "cell_type": "code",
   "execution_count": null,
   "id": "39e712e2",
   "metadata": {},
   "outputs": [],
   "source": []
  },
  {
   "cell_type": "code",
   "execution_count": null,
   "id": "397d3ee7",
   "metadata": {},
   "outputs": [],
   "source": []
  },
  {
   "cell_type": "code",
   "execution_count": null,
   "id": "c6bb9328",
   "metadata": {},
   "outputs": [],
   "source": []
  },
  {
   "cell_type": "code",
   "execution_count": null,
   "id": "13c87d13",
   "metadata": {},
   "outputs": [],
   "source": []
  },
  {
   "cell_type": "code",
   "execution_count": null,
   "id": "3273a872",
   "metadata": {},
   "outputs": [],
   "source": []
  },
  {
   "cell_type": "code",
   "execution_count": null,
   "id": "0ebb40e8",
   "metadata": {},
   "outputs": [],
   "source": []
  },
  {
   "cell_type": "code",
   "execution_count": null,
   "id": "2bf97e4d",
   "metadata": {},
   "outputs": [],
   "source": []
  },
  {
   "cell_type": "code",
   "execution_count": null,
   "id": "4c5d8244",
   "metadata": {},
   "outputs": [],
   "source": []
  },
  {
   "cell_type": "code",
   "execution_count": null,
   "id": "298c63be",
   "metadata": {},
   "outputs": [],
   "source": []
  },
  {
   "cell_type": "code",
   "execution_count": null,
   "id": "0aabc426",
   "metadata": {},
   "outputs": [],
   "source": []
  },
  {
   "cell_type": "code",
   "execution_count": null,
   "id": "d75f7a81",
   "metadata": {},
   "outputs": [],
   "source": []
  },
  {
   "cell_type": "code",
   "execution_count": null,
   "id": "076cc934",
   "metadata": {},
   "outputs": [],
   "source": []
  },
  {
   "cell_type": "code",
   "execution_count": null,
   "id": "02372b12",
   "metadata": {},
   "outputs": [],
   "source": []
  },
  {
   "cell_type": "code",
   "execution_count": null,
   "id": "e193c781",
   "metadata": {},
   "outputs": [],
   "source": []
  },
  {
   "cell_type": "code",
   "execution_count": null,
   "id": "2d47c9c0",
   "metadata": {},
   "outputs": [],
   "source": []
  },
  {
   "cell_type": "code",
   "execution_count": null,
   "id": "8d5d4c48",
   "metadata": {},
   "outputs": [],
   "source": []
  }
 ],
 "metadata": {
  "kernelspec": {
   "display_name": "Python 3 (ipykernel)",
   "language": "python",
   "name": "python3"
  },
  "language_info": {
   "codemirror_mode": {
    "name": "ipython",
    "version": 3
   },
   "file_extension": ".py",
   "mimetype": "text/x-python",
   "name": "python",
   "nbconvert_exporter": "python",
   "pygments_lexer": "ipython3",
   "version": "3.8.13"
  }
 },
 "nbformat": 4,
 "nbformat_minor": 5
}
