{
 "cells": [
  {
   "cell_type": "markdown",
   "id": "040531ea",
   "metadata": {},
   "source": [
    "### 파이썬의 철학"
   ]
  },
  {
   "cell_type": "code",
   "execution_count": 1,
   "id": "4df0b1a5",
   "metadata": {},
   "outputs": [
    {
     "name": "stdout",
     "output_type": "stream",
     "text": [
      "The Zen of Python, by Tim Peters\n",
      "\n",
      "Beautiful is better than ugly.\n",
      "Explicit is better than implicit.\n",
      "Simple is better than complex.\n",
      "Complex is better than complicated.\n",
      "Flat is better than nested.\n",
      "Sparse is better than dense.\n",
      "Readability counts.\n",
      "Special cases aren't special enough to break the rules.\n",
      "Although practicality beats purity.\n",
      "Errors should never pass silently.\n",
      "Unless explicitly silenced.\n",
      "In the face of ambiguity, refuse the temptation to guess.\n",
      "There should be one-- and preferably only one --obvious way to do it.\n",
      "Although that way may not be obvious at first unless you're Dutch.\n",
      "Now is better than never.\n",
      "Although never is often better than *right* now.\n",
      "If the implementation is hard to explain, it's a bad idea.\n",
      "If the implementation is easy to explain, it may be a good idea.\n",
      "Namespaces are one honking great idea -- let's do more of those!\n"
     ]
    }
   ],
   "source": [
    "import this"
   ]
  },
  {
   "cell_type": "markdown",
   "id": "47e53950",
   "metadata": {},
   "source": [
    "### print (출력)\n",
    "- 첫 단원에서는 기본 print()의 출력만 배웁니다.\n",
    "- 향후 실습 진행을 위한 정도만 배우고, 나중에 문자열 포맷팅에서 더 자세히 다룹니다."
   ]
  },
  {
   "cell_type": "code",
   "execution_count": 2,
   "id": "7819f67f",
   "metadata": {},
   "outputs": [
    {
     "name": "stdout",
     "output_type": "stream",
     "text": [
      "오늘 파이썬 배우기 좋은 날이네!\n"
     ]
    }
   ],
   "source": [
    "print('오늘 파이썬 배우기 좋은 날이네!')"
   ]
  },
  {
   "cell_type": "code",
   "execution_count": 5,
   "id": "7e65eefe",
   "metadata": {},
   "outputs": [
    {
     "name": "stdout",
     "output_type": "stream",
     "text": [
      "오늘은 일요일\n"
     ]
    }
   ],
   "source": [
    "print('오늘은', '일요일')"
   ]
  },
  {
   "cell_type": "code",
   "execution_count": 6,
   "id": "b6c87cbc",
   "metadata": {},
   "outputs": [
    {
     "name": "stdout",
     "output_type": "stream",
     "text": [
      "1 2 3 4\n"
     ]
    }
   ],
   "source": [
    "print(1, 2, 3, 4)"
   ]
  },
  {
   "cell_type": "markdown",
   "id": "515f76c6",
   "metadata": {},
   "source": [
    "**Jupyter Notebook** 셀에서 맨 끝에 위치한 변수, 문자열, 숫자 등은 자동으로 출력합니다. <br />\n",
    "3.14, '안녕', 100 이렇게 3개의 값이 있지만, 항상 가장 마지막만 출력됩니다."
   ]
  },
  {
   "cell_type": "code",
   "execution_count": 7,
   "id": "0c08db86",
   "metadata": {},
   "outputs": [
    {
     "data": {
      "text/plain": [
       "100"
      ]
     },
     "execution_count": 7,
     "metadata": {},
     "output_type": "execute_result"
    }
   ],
   "source": [
    "3.14\n",
    "'안녕'\n",
    "100"
   ]
  },
  {
   "cell_type": "markdown",
   "id": "02d2b492",
   "metadata": {},
   "source": [
    "### 변수 (Variable)\n",
    "- 변수는 **데이터를 담는 그릇**이라고 생각하시면 됩니다.\n",
    "- 변수라는 그릇에 정수를 담을 수도 있고, 긴 글을 담을 수도 있고, file을 담을 수도 있습니다. 우리가 재사용하기 쉽게 **별명**을 지정해 줬다라고 쉽게 생각하시기 바랍니다."
   ]
  },
  {
   "cell_type": "markdown",
   "id": "b3c6c980",
   "metadata": {},
   "source": [
    "#### 변수의 이름 규칙 (Rule)\n",
    "다음의 **문자만 사용**할 수 있습니다.\n",
    "- 소문자(a~z)\n",
    "- 대문자(A~Z)\n",
    "- 숫자(0~9)\n",
    "- 한글도 가능\n",
    "- 특수기호는 언더바(_)만 허용\n",
    "\n",
    "다음의 **규칙**을 가집니다.\n",
    "- 대소 문자를 구분합니다.\n",
    "- 숫자는 맨 처음에 올 수 없습니다.\n",
    "- 예약어(keyword)는 사용할 수 없습니다. (def, if, del, import, return 등등)"
   ]
  },
  {
   "cell_type": "markdown",
   "id": "a885ef45",
   "metadata": {},
   "source": [
    "case 1. 알파벳(가능) / 대소문자 모두 가능 / 심지어 **한글도 가능하나 사용하는 것은 비추!**"
   ]
  },
  {
   "cell_type": "code",
   "execution_count": 8,
   "id": "bccf5436",
   "metadata": {},
   "outputs": [],
   "source": [
    "a = 1"
   ]
  },
  {
   "cell_type": "code",
   "execution_count": 9,
   "id": "c7b0f2d3",
   "metadata": {},
   "outputs": [],
   "source": [
    "A = 1"
   ]
  },
  {
   "cell_type": "code",
   "execution_count": 10,
   "id": "143c320c",
   "metadata": {},
   "outputs": [],
   "source": [
    "변수 = 1"
   ]
  },
  {
   "cell_type": "code",
   "execution_count": 11,
   "id": "b8c74cab",
   "metadata": {},
   "outputs": [
    {
     "data": {
      "text/plain": [
       "1"
      ]
     },
     "execution_count": 11,
     "metadata": {},
     "output_type": "execute_result"
    }
   ],
   "source": [
    "변수"
   ]
  },
  {
   "cell_type": "markdown",
   "id": "91d0ce7a",
   "metadata": {},
   "source": [
    "case 2. 알파벳 + 숫자 (가능)"
   ]
  },
  {
   "cell_type": "code",
   "execution_count": 12,
   "id": "c94e83cf",
   "metadata": {},
   "outputs": [],
   "source": [
    "a1 = 1"
   ]
  },
  {
   "cell_type": "markdown",
   "id": "0aac1e46",
   "metadata": {},
   "source": [
    "case 3. 알파벳 + 언더바(_) (가능)"
   ]
  },
  {
   "cell_type": "code",
   "execution_count": 13,
   "id": "101a28e4",
   "metadata": {},
   "outputs": [],
   "source": [
    "a_ = 1"
   ]
  },
  {
   "cell_type": "markdown",
   "id": "b26f1eed",
   "metadata": {},
   "source": [
    "case 4. 언더바(_) + 알파벳 (가능)"
   ]
  },
  {
   "cell_type": "code",
   "execution_count": 14,
   "id": "95174eca",
   "metadata": {},
   "outputs": [],
   "source": [
    "_a = 1"
   ]
  },
  {
   "cell_type": "markdown",
   "id": "07a83d3c",
   "metadata": {},
   "source": [
    "case 5. 숫자 + 알파벳 (불가능)"
   ]
  },
  {
   "cell_type": "code",
   "execution_count": 15,
   "id": "81dc9288",
   "metadata": {},
   "outputs": [
    {
     "ename": "SyntaxError",
     "evalue": "invalid syntax (1364191551.py, line 1)",
     "output_type": "error",
     "traceback": [
      "\u001b[0;36m  Input \u001b[0;32mIn [15]\u001b[0;36m\u001b[0m\n\u001b[0;31m    1a = 1\u001b[0m\n\u001b[0m     ^\u001b[0m\n\u001b[0;31mSyntaxError\u001b[0m\u001b[0;31m:\u001b[0m invalid syntax\n"
     ]
    }
   ],
   "source": [
    "1a = 1"
   ]
  },
  {
   "cell_type": "markdown",
   "id": "3d16b91e",
   "metadata": {},
   "source": [
    "case 6. 특수문자 (불가능)"
   ]
  },
  {
   "cell_type": "code",
   "execution_count": 16,
   "id": "12b1ca0f",
   "metadata": {},
   "outputs": [
    {
     "ename": "SyntaxError",
     "evalue": "invalid syntax (1040641717.py, line 1)",
     "output_type": "error",
     "traceback": [
      "\u001b[0;36m  Input \u001b[0;32mIn [16]\u001b[0;36m\u001b[0m\n\u001b[0;31m    * = 7\u001b[0m\n\u001b[0m      ^\u001b[0m\n\u001b[0;31mSyntaxError\u001b[0m\u001b[0;31m:\u001b[0m invalid syntax\n"
     ]
    }
   ],
   "source": [
    "* = 7"
   ]
  },
  {
   "cell_type": "markdown",
   "id": "fd3ff698",
   "metadata": {},
   "source": [
    "case 7. 언더바를 제외한 특수문자 (불가능)"
   ]
  },
  {
   "cell_type": "code",
   "execution_count": 17,
   "id": "9bfd760b",
   "metadata": {},
   "outputs": [
    {
     "ename": "SyntaxError",
     "evalue": "invalid syntax (158779158.py, line 1)",
     "output_type": "error",
     "traceback": [
      "\u001b[0;36m  Input \u001b[0;32mIn [17]\u001b[0;36m\u001b[0m\n\u001b[0;31m    a$ = 6\u001b[0m\n\u001b[0m     ^\u001b[0m\n\u001b[0;31mSyntaxError\u001b[0m\u001b[0;31m:\u001b[0m invalid syntax\n"
     ]
    }
   ],
   "source": [
    "a$ = 6"
   ]
  },
  {
   "cell_type": "markdown",
   "id": "f4f6e401",
   "metadata": {},
   "source": [
    "case 8. 변수의 이름 사이의 공백 (불가능)"
   ]
  },
  {
   "cell_type": "code",
   "execution_count": 18,
   "id": "5265a001",
   "metadata": {},
   "outputs": [
    {
     "ename": "SyntaxError",
     "evalue": "invalid syntax (3277752647.py, line 1)",
     "output_type": "error",
     "traceback": [
      "\u001b[0;36m  Input \u001b[0;32mIn [18]\u001b[0;36m\u001b[0m\n\u001b[0;31m    a b = 6\u001b[0m\n\u001b[0m      ^\u001b[0m\n\u001b[0;31mSyntaxError\u001b[0m\u001b[0;31m:\u001b[0m invalid syntax\n"
     ]
    }
   ],
   "source": [
    "a b = 6"
   ]
  },
  {
   "cell_type": "markdown",
   "id": "30e4cce2",
   "metadata": {},
   "source": [
    "주로 변수는 **소문자 알파벳으로 생성**하고, 필요시 **언더바**나 **숫자를 붙히는 방식**이 일반적입니다."
   ]
  },
  {
   "cell_type": "code",
   "execution_count": 19,
   "id": "4839fa41",
   "metadata": {},
   "outputs": [],
   "source": [
    "test = 10"
   ]
  },
  {
   "cell_type": "code",
   "execution_count": 20,
   "id": "2dc57b27",
   "metadata": {},
   "outputs": [],
   "source": [
    "test01 = 20"
   ]
  },
  {
   "cell_type": "code",
   "execution_count": 21,
   "id": "dde652b4",
   "metadata": {},
   "outputs": [],
   "source": [
    "test_01 = 30"
   ]
  },
  {
   "cell_type": "markdown",
   "id": "863426f1",
   "metadata": {},
   "source": [
    "### 데이터 타입 (Data Type)"
   ]
  },
  {
   "cell_type": "markdown",
   "id": "933f7ed4",
   "metadata": {},
   "source": [
    "자료형태(자료형), 자료구조라고도 불리웁니다."
   ]
  },
  {
   "cell_type": "markdown",
   "id": "2d0b7027",
   "metadata": {},
   "source": [
    "**주요 데이터 타입(type)**\n",
    "1. `int`(정수): Integer(정수)의 약어이며, 정수를 나타내는 자료형입니다.\n",
    "2. `float`(실수): Floating point의 약어이며, 소수점이 있는 숫자를 나타내는 자료형입니다.\n",
    "3. `str`(문자열): 문자를 나타내는 자료형입니다. 작은 따옴표 혹은 큰 따옴표로 감싸져 있습니다.\n",
    "4. `bool`(참/거짓): 참 또는 거짓을 나타내는 자료형입니다. True, False에서 T와 F는 반드시 대문자로 표기해야 합니다."
   ]
  },
  {
   "cell_type": "markdown",
   "id": "feea12c2",
   "metadata": {},
   "source": [
    "### type()"
   ]
  },
  {
   "cell_type": "markdown",
   "id": "fd14887c",
   "metadata": {},
   "source": [
    "type 함수를 활용하여 데이터의 타입을 알아 볼 수 있습니다."
   ]
  },
  {
   "cell_type": "code",
   "execution_count": 23,
   "id": "687bda48",
   "metadata": {},
   "outputs": [
    {
     "data": {
      "text/plain": [
       "int"
      ]
     },
     "execution_count": 23,
     "metadata": {},
     "output_type": "execute_result"
    }
   ],
   "source": [
    "type(1)"
   ]
  },
  {
   "cell_type": "code",
   "execution_count": 24,
   "id": "949301c5",
   "metadata": {},
   "outputs": [
    {
     "data": {
      "text/plain": [
       "float"
      ]
     },
     "execution_count": 24,
     "metadata": {},
     "output_type": "execute_result"
    }
   ],
   "source": [
    "type(3.14)"
   ]
  },
  {
   "cell_type": "code",
   "execution_count": 25,
   "id": "54039edf",
   "metadata": {},
   "outputs": [
    {
     "data": {
      "text/plain": [
       "str"
      ]
     },
     "execution_count": 25,
     "metadata": {},
     "output_type": "execute_result"
    }
   ],
   "source": [
    "type('안녕')"
   ]
  },
  {
   "cell_type": "code",
   "execution_count": 26,
   "id": "609206df",
   "metadata": {},
   "outputs": [
    {
     "data": {
      "text/plain": [
       "bool"
      ]
     },
     "execution_count": 26,
     "metadata": {},
     "output_type": "execute_result"
    }
   ],
   "source": [
    "type(True)"
   ]
  },
  {
   "cell_type": "markdown",
   "id": "a0b14f98",
   "metadata": {},
   "source": [
    "### int (정수)"
   ]
  },
  {
   "cell_type": "markdown",
   "id": "b6522577",
   "metadata": {},
   "source": [
    "Integer(정수)의 약어이며, 정수를 나타내는 자료형입니다."
   ]
  },
  {
   "cell_type": "code",
   "execution_count": 27,
   "id": "587c33f9",
   "metadata": {},
   "outputs": [],
   "source": [
    "a = 1"
   ]
  },
  {
   "cell_type": "code",
   "execution_count": 28,
   "id": "2d8170d1",
   "metadata": {},
   "outputs": [
    {
     "name": "stdout",
     "output_type": "stream",
     "text": [
      "1\n"
     ]
    }
   ],
   "source": [
    "print(a)"
   ]
  },
  {
   "cell_type": "markdown",
   "id": "83a45441",
   "metadata": {},
   "source": [
    "**type 확인**"
   ]
  },
  {
   "cell_type": "code",
   "execution_count": 29,
   "id": "570e4012",
   "metadata": {},
   "outputs": [
    {
     "data": {
      "text/plain": [
       "int"
      ]
     },
     "execution_count": 29,
     "metadata": {},
     "output_type": "execute_result"
    }
   ],
   "source": [
    "type(a)"
   ]
  },
  {
   "cell_type": "markdown",
   "id": "0cff1e95",
   "metadata": {},
   "source": [
    "### float (실수)"
   ]
  },
  {
   "cell_type": "markdown",
   "id": "788eb9df",
   "metadata": {},
   "source": [
    "Floating point의 약어이며, 소수점이 있는 숫자를 나타내는 자료형입니다."
   ]
  },
  {
   "cell_type": "code",
   "execution_count": 30,
   "id": "878ed77f",
   "metadata": {},
   "outputs": [],
   "source": [
    "a = 3.14"
   ]
  },
  {
   "cell_type": "code",
   "execution_count": 31,
   "id": "3667d439",
   "metadata": {},
   "outputs": [
    {
     "name": "stdout",
     "output_type": "stream",
     "text": [
      "3.14\n"
     ]
    }
   ],
   "source": [
    "print(a)"
   ]
  },
  {
   "cell_type": "markdown",
   "id": "e2e3b7c9",
   "metadata": {},
   "source": [
    "**type 확인**"
   ]
  },
  {
   "cell_type": "code",
   "execution_count": 32,
   "id": "5d7cf803",
   "metadata": {},
   "outputs": [
    {
     "data": {
      "text/plain": [
       "float"
      ]
     },
     "execution_count": 32,
     "metadata": {},
     "output_type": "execute_result"
    }
   ],
   "source": [
    "type(a)"
   ]
  },
  {
   "cell_type": "markdown",
   "id": "ce74d49c",
   "metadata": {},
   "source": [
    "### str (문자열)"
   ]
  },
  {
   "cell_type": "markdown",
   "id": "ca366533",
   "metadata": {},
   "source": [
    "문자를 나타내는 자료형입니다. 작은 따옴표 혹은 큰 따옴표로 감싸져 있습니다."
   ]
  },
  {
   "cell_type": "markdown",
   "id": "bc533d60",
   "metadata": {},
   "source": [
    "**작은 따옴표** '' 사이에 문자를 입력한 경우"
   ]
  },
  {
   "cell_type": "code",
   "execution_count": 33,
   "id": "22bf628d",
   "metadata": {},
   "outputs": [],
   "source": [
    "word = '안녕하세요'"
   ]
  },
  {
   "cell_type": "code",
   "execution_count": 34,
   "id": "a86a8ce7",
   "metadata": {},
   "outputs": [
    {
     "data": {
      "text/plain": [
       "'안녕하세요'"
      ]
     },
     "execution_count": 34,
     "metadata": {},
     "output_type": "execute_result"
    }
   ],
   "source": [
    "word"
   ]
  },
  {
   "cell_type": "markdown",
   "id": "db9300f5",
   "metadata": {},
   "source": [
    "**type 확인**"
   ]
  },
  {
   "cell_type": "code",
   "execution_count": 35,
   "id": "9b66bc8a",
   "metadata": {},
   "outputs": [
    {
     "data": {
      "text/plain": [
       "str"
      ]
     },
     "execution_count": 35,
     "metadata": {},
     "output_type": "execute_result"
    }
   ],
   "source": [
    "type(word)"
   ]
  },
  {
   "cell_type": "markdown",
   "id": "56b67c83",
   "metadata": {},
   "source": [
    "**큰 따옴표** \"\" 사이에 문자를 입력한 경우"
   ]
  },
  {
   "cell_type": "code",
   "execution_count": 37,
   "id": "057a9587",
   "metadata": {},
   "outputs": [],
   "source": [
    "word = \"안녕하세요\""
   ]
  },
  {
   "cell_type": "code",
   "execution_count": 38,
   "id": "893fc69d",
   "metadata": {},
   "outputs": [
    {
     "data": {
      "text/plain": [
       "'안녕하세요'"
      ]
     },
     "execution_count": 38,
     "metadata": {},
     "output_type": "execute_result"
    }
   ],
   "source": [
    "word"
   ]
  },
  {
   "cell_type": "markdown",
   "id": "f75d0a4b",
   "metadata": {},
   "source": [
    "**type 확인**"
   ]
  },
  {
   "cell_type": "code",
   "execution_count": 39,
   "id": "27ae6d0a",
   "metadata": {},
   "outputs": [
    {
     "data": {
      "text/plain": [
       "str"
      ]
     },
     "execution_count": 39,
     "metadata": {},
     "output_type": "execute_result"
    }
   ],
   "source": [
    "type(word)"
   ]
  },
  {
   "cell_type": "markdown",
   "id": "9d57d80c",
   "metadata": {},
   "source": [
    "**여러 줄에 입력하고 싶을 때는 어떻게 해야하나요?**"
   ]
  },
  {
   "cell_type": "markdown",
   "id": "794ea60d",
   "metadata": {},
   "source": [
    "**작은 따옴표**''' ''' 3개를 연속해서 사용한 경우\n",
    "- 작은 따옴표나 큰 따옴표 3개를 연속해서 사용시 여러 줄에 나누어 문장을 입력할 수 있습니다."
   ]
  },
  {
   "cell_type": "code",
   "execution_count": 42,
   "id": "70d842bb",
   "metadata": {},
   "outputs": [],
   "source": [
    "word = '''안녕하세요\n",
    "반\n",
    "갑\n",
    "습\n",
    "니다.\n",
    "'''"
   ]
  },
  {
   "cell_type": "code",
   "execution_count": 43,
   "id": "c0fd1931",
   "metadata": {},
   "outputs": [
    {
     "data": {
      "text/plain": [
       "'안녕하세요\\n반\\n갑\\n습\\n니다.\\n'"
      ]
     },
     "execution_count": 43,
     "metadata": {},
     "output_type": "execute_result"
    }
   ],
   "source": [
    "word"
   ]
  },
  {
   "cell_type": "markdown",
   "id": "63c5ae4f",
   "metadata": {},
   "source": [
    "**큰 따옴표** \"\"\" \"\"\" 3개를 연속해서 사용한 경우"
   ]
  },
  {
   "cell_type": "code",
   "execution_count": 44,
   "id": "bc3d1c41",
   "metadata": {},
   "outputs": [],
   "source": [
    "word = \"\"\"안녕하세요\n",
    "반\n",
    "갑\n",
    "습\n",
    "니다.\n",
    "\"\"\""
   ]
  },
  {
   "cell_type": "code",
   "execution_count": 45,
   "id": "e3129990",
   "metadata": {},
   "outputs": [
    {
     "name": "stdout",
     "output_type": "stream",
     "text": [
      "안녕하세요\n",
      "반\n",
      "갑\n",
      "습\n",
      "니다.\n",
      "\n"
     ]
    }
   ],
   "source": [
    "print(word)"
   ]
  },
  {
   "cell_type": "markdown",
   "id": "9fbb00b0",
   "metadata": {},
   "source": [
    "**type 확인**"
   ]
  },
  {
   "cell_type": "code",
   "execution_count": 46,
   "id": "d81317b9",
   "metadata": {},
   "outputs": [
    {
     "data": {
      "text/plain": [
       "str"
      ]
     },
     "execution_count": 46,
     "metadata": {},
     "output_type": "execute_result"
    }
   ],
   "source": [
    "type(word)"
   ]
  },
  {
   "cell_type": "markdown",
   "id": "d996f54a",
   "metadata": {},
   "source": [
    "### bool (참/거짓)"
   ]
  },
  {
   "cell_type": "markdown",
   "id": "4f0da752",
   "metadata": {},
   "source": [
    "참 또는 거짓을 나타내는 자료형입니다. True, False에서 T와 F는 **반드시 대문자료 표기**해야 합니다."
   ]
  },
  {
   "cell_type": "code",
   "execution_count": 47,
   "id": "f8237999",
   "metadata": {},
   "outputs": [],
   "source": [
    "a = False"
   ]
  },
  {
   "cell_type": "code",
   "execution_count": 48,
   "id": "4b5e8b87",
   "metadata": {},
   "outputs": [
    {
     "name": "stdout",
     "output_type": "stream",
     "text": [
      "False\n"
     ]
    }
   ],
   "source": [
    "print(a)"
   ]
  },
  {
   "cell_type": "markdown",
   "id": "13a43c59",
   "metadata": {},
   "source": [
    "**type 확인**"
   ]
  },
  {
   "cell_type": "code",
   "execution_count": 49,
   "id": "0af38495",
   "metadata": {},
   "outputs": [
    {
     "data": {
      "text/plain": [
       "bool"
      ]
     },
     "execution_count": 49,
     "metadata": {},
     "output_type": "execute_result"
    }
   ],
   "source": [
    "type(False)"
   ]
  },
  {
   "cell_type": "markdown",
   "id": "fc915beb",
   "metadata": {},
   "source": [
    "- 정수 1은 `True`\n",
    "- 정수 0은 `False`"
   ]
  },
  {
   "cell_type": "markdown",
   "id": "7b311d77",
   "metadata": {},
   "source": [
    "비교 연산자는 추후에 배우게 됩니다.\n",
    "\n",
    "파이썬에서는 **\"같다\"** 비교를 **\"==\"** 기호로 합니다."
   ]
  },
  {
   "cell_type": "code",
   "execution_count": 50,
   "id": "87b55f32",
   "metadata": {},
   "outputs": [
    {
     "data": {
      "text/plain": [
       "True"
      ]
     },
     "execution_count": 50,
     "metadata": {},
     "output_type": "execute_result"
    }
   ],
   "source": [
    "1 == True"
   ]
  },
  {
   "cell_type": "code",
   "execution_count": 51,
   "id": "1cf51b17",
   "metadata": {},
   "outputs": [
    {
     "data": {
      "text/plain": [
       "True"
      ]
     },
     "execution_count": 51,
     "metadata": {},
     "output_type": "execute_result"
    }
   ],
   "source": [
    "0 == False"
   ]
  },
  {
   "cell_type": "markdown",
   "id": "0906c2c9",
   "metadata": {},
   "source": [
    "**type 확인**"
   ]
  },
  {
   "cell_type": "code",
   "execution_count": 52,
   "id": "68ba8117",
   "metadata": {},
   "outputs": [
    {
     "data": {
      "text/plain": [
       "bool"
      ]
     },
     "execution_count": 52,
     "metadata": {},
     "output_type": "execute_result"
    }
   ],
   "source": [
    "type(True)"
   ]
  },
  {
   "cell_type": "markdown",
   "id": "4ff6acca",
   "metadata": {},
   "source": [
    "### 아무것도 아닌 None 타입"
   ]
  },
  {
   "cell_type": "markdown",
   "id": "f7365879",
   "metadata": {},
   "source": [
    "말 그대로 아무 것도 아닌 흔히 Null 값을 넣는다고도 합니다.\n",
    "\n",
    "사전상 의미는\n",
    "- **Null: Nullify (무효화하다)** 라는 뜻을 가지고 있다네요~\n",
    "\n",
    "python에서는 **None** 입니다!"
   ]
  },
  {
   "cell_type": "code",
   "execution_count": 53,
   "id": "f5e318d4",
   "metadata": {},
   "outputs": [],
   "source": [
    "a = None"
   ]
  },
  {
   "cell_type": "markdown",
   "id": "40a8dca9",
   "metadata": {},
   "source": [
    "**type 확인**"
   ]
  },
  {
   "cell_type": "code",
   "execution_count": 55,
   "id": "e74e906b",
   "metadata": {},
   "outputs": [
    {
     "data": {
      "text/plain": [
       "NoneType"
      ]
     },
     "execution_count": 55,
     "metadata": {},
     "output_type": "execute_result"
    }
   ],
   "source": [
    "type(a)"
   ]
  },
  {
   "cell_type": "code",
   "execution_count": 56,
   "id": "bd614765",
   "metadata": {},
   "outputs": [
    {
     "name": "stdout",
     "output_type": "stream",
     "text": [
      "None\n"
     ]
    }
   ],
   "source": [
    "print(a)"
   ]
  },
  {
   "cell_type": "markdown",
   "id": "35eaf1ff",
   "metadata": {},
   "source": [
    "### 타입 변환"
   ]
  },
  {
   "cell_type": "markdown",
   "id": "33edb4d5",
   "metadata": {},
   "source": [
    "`int`를 `float`로 변환한 경우"
   ]
  },
  {
   "cell_type": "code",
   "execution_count": 57,
   "id": "87caf5d3",
   "metadata": {},
   "outputs": [],
   "source": [
    "a = 1"
   ]
  },
  {
   "cell_type": "code",
   "execution_count": 58,
   "id": "fa7e980a",
   "metadata": {},
   "outputs": [
    {
     "data": {
      "text/plain": [
       "int"
      ]
     },
     "execution_count": 58,
     "metadata": {},
     "output_type": "execute_result"
    }
   ],
   "source": [
    "type(a)"
   ]
  },
  {
   "cell_type": "code",
   "execution_count": 59,
   "id": "98ce2455",
   "metadata": {},
   "outputs": [
    {
     "data": {
      "text/plain": [
       "1.0"
      ]
     },
     "execution_count": 59,
     "metadata": {},
     "output_type": "execute_result"
    }
   ],
   "source": [
    "float(a)"
   ]
  },
  {
   "cell_type": "markdown",
   "id": "f3a9190e",
   "metadata": {},
   "source": [
    "`float`를 `int`로 변환한 경우\n",
    "- float를 int로 변환시 반올림이 아닌 값이 버림되어 집니다. (소수점 이하 절삭)"
   ]
  },
  {
   "cell_type": "code",
   "execution_count": 60,
   "id": "ec05b43c",
   "metadata": {},
   "outputs": [],
   "source": [
    "b = 3.99"
   ]
  },
  {
   "cell_type": "code",
   "execution_count": 61,
   "id": "00cf67e2",
   "metadata": {},
   "outputs": [
    {
     "data": {
      "text/plain": [
       "3"
      ]
     },
     "execution_count": 61,
     "metadata": {},
     "output_type": "execute_result"
    }
   ],
   "source": [
    "int(b)"
   ]
  },
  {
   "cell_type": "markdown",
   "id": "2691a2c5",
   "metadata": {},
   "source": [
    "`bool`을 `int`로 변환한 경우"
   ]
  },
  {
   "cell_type": "code",
   "execution_count": 62,
   "id": "36a5531e",
   "metadata": {},
   "outputs": [],
   "source": [
    "c = True"
   ]
  },
  {
   "cell_type": "code",
   "execution_count": 63,
   "id": "6c3ea3fd",
   "metadata": {},
   "outputs": [
    {
     "data": {
      "text/plain": [
       "1"
      ]
     },
     "execution_count": 63,
     "metadata": {},
     "output_type": "execute_result"
    }
   ],
   "source": [
    "int(c)"
   ]
  },
  {
   "cell_type": "code",
   "execution_count": 64,
   "id": "bf8a929f",
   "metadata": {},
   "outputs": [],
   "source": [
    "d = False"
   ]
  },
  {
   "cell_type": "code",
   "execution_count": 65,
   "id": "7820f7dc",
   "metadata": {},
   "outputs": [
    {
     "data": {
      "text/plain": [
       "0"
      ]
     },
     "execution_count": 65,
     "metadata": {},
     "output_type": "execute_result"
    }
   ],
   "source": [
    "int(d)"
   ]
  },
  {
   "cell_type": "markdown",
   "id": "9a590147",
   "metadata": {},
   "source": [
    "`bool`을 `float`로 변환한 경우"
   ]
  },
  {
   "cell_type": "code",
   "execution_count": 66,
   "id": "61d364d3",
   "metadata": {},
   "outputs": [
    {
     "data": {
      "text/plain": [
       "1.0"
      ]
     },
     "execution_count": 66,
     "metadata": {},
     "output_type": "execute_result"
    }
   ],
   "source": [
    "float(True)"
   ]
  },
  {
   "cell_type": "markdown",
   "id": "f43dac32",
   "metadata": {},
   "source": [
    "파이썬에서는 **0이 아닌 값은 모두 True로 간주**한다."
   ]
  },
  {
   "cell_type": "code",
   "execution_count": 67,
   "id": "a342c8ac",
   "metadata": {},
   "outputs": [
    {
     "data": {
      "text/plain": [
       "True"
      ]
     },
     "execution_count": 67,
     "metadata": {},
     "output_type": "execute_result"
    }
   ],
   "source": [
    "bool(1)"
   ]
  },
  {
   "cell_type": "code",
   "execution_count": 68,
   "id": "9e02438e",
   "metadata": {},
   "outputs": [
    {
     "data": {
      "text/plain": [
       "True"
      ]
     },
     "execution_count": 68,
     "metadata": {},
     "output_type": "execute_result"
    }
   ],
   "source": [
    "bool(-10)"
   ]
  },
  {
   "cell_type": "code",
   "execution_count": 69,
   "id": "1810815b",
   "metadata": {},
   "outputs": [
    {
     "data": {
      "text/plain": [
       "True"
      ]
     },
     "execution_count": 69,
     "metadata": {},
     "output_type": "execute_result"
    }
   ],
   "source": [
    "bool(3.14)"
   ]
  },
  {
   "cell_type": "code",
   "execution_count": 70,
   "id": "5379b8ae",
   "metadata": {},
   "outputs": [
    {
     "data": {
      "text/plain": [
       "False"
      ]
     },
     "execution_count": 70,
     "metadata": {},
     "output_type": "execute_result"
    }
   ],
   "source": [
    "bool(0)"
   ]
  },
  {
   "cell_type": "code",
   "execution_count": 71,
   "id": "618e6fd1",
   "metadata": {},
   "outputs": [
    {
     "data": {
      "text/plain": [
       "False"
      ]
     },
     "execution_count": 71,
     "metadata": {},
     "output_type": "execute_result"
    }
   ],
   "source": [
    "bool(0.0)"
   ]
  }
 ],
 "metadata": {
  "kernelspec": {
   "display_name": "Python 3 (ipykernel)",
   "language": "python",
   "name": "python3"
  },
  "language_info": {
   "codemirror_mode": {
    "name": "ipython",
    "version": 3
   },
   "file_extension": ".py",
   "mimetype": "text/x-python",
   "name": "python",
   "nbconvert_exporter": "python",
   "pygments_lexer": "ipython3",
   "version": "3.8.13"
  }
 },
 "nbformat": 4,
 "nbformat_minor": 5
}
